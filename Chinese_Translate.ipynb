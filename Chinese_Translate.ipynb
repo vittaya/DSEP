{
  "nbformat": 4,
  "nbformat_minor": 0,
  "metadata": {
    "colab": {
      "name": "Chinese Translate.ipynb",
      "provenance": [],
      "authorship_tag": "ABX9TyPkERBCbDWPWIlJGFBv1Uma",
      "include_colab_link": true
    },
    "kernelspec": {
      "name": "python3",
      "display_name": "Python 3"
    }
  },
  "cells": [
    {
      "cell_type": "markdown",
      "metadata": {
        "id": "view-in-github",
        "colab_type": "text"
      },
      "source": [
        "<a href=\"https://colab.research.google.com/github/vittaya/DSEP/blob/master/Chinese_Translate.ipynb\" target=\"_parent\"><img src=\"https://colab.research.google.com/assets/colab-badge.svg\" alt=\"Open In Colab\"/></a>"
      ]
    },
    {
      "cell_type": "code",
      "metadata": {
        "id": "2Wb4LO9ioguT"
      },
      "source": [
        "import numpy as np\r\n",
        "import pandas as pd\r\n",
        "import time"
      ],
      "execution_count": 13,
      "outputs": []
    },
    {
      "cell_type": "code",
      "metadata": {
        "id": "ijf_LNyNpdOq",
        "colab": {
          "base_uri": "https://localhost:8080/"
        },
        "outputId": "70462231-38b6-42c3-ac79-999d92cd9423"
      },
      "source": [
        "!pip install googletrans==3.1.0a0"
      ],
      "execution_count": 2,
      "outputs": [
        {
          "output_type": "stream",
          "text": [
            "Collecting googletrans==3.1.0a0\n",
            "  Downloading https://files.pythonhosted.org/packages/19/3d/4e3a1609bf52f2f7b00436cc751eb977e27040665dde2bd57e7152989672/googletrans-3.1.0a0.tar.gz\n",
            "Collecting httpx==0.13.3\n",
            "\u001b[?25l  Downloading https://files.pythonhosted.org/packages/54/b4/698b284c6aed4d7c2b4fe3ba5df1fcf6093612423797e76fbb24890dd22f/httpx-0.13.3-py3-none-any.whl (55kB)\n",
            "\u001b[K     |████████████████████████████████| 61kB 4.7MB/s \n",
            "\u001b[?25hCollecting rfc3986<2,>=1.3\n",
            "  Downloading https://files.pythonhosted.org/packages/78/be/7b8b99fd74ff5684225f50dd0e865393d2265656ef3b4ba9eaaaffe622b8/rfc3986-1.4.0-py2.py3-none-any.whl\n",
            "Collecting httpcore==0.9.*\n",
            "\u001b[?25l  Downloading https://files.pythonhosted.org/packages/dd/d5/e4ff9318693ac6101a2095e580908b591838c6f33df8d3ee8dd953ba96a8/httpcore-0.9.1-py3-none-any.whl (42kB)\n",
            "\u001b[K     |████████████████████████████████| 51kB 6.5MB/s \n",
            "\u001b[?25hRequirement already satisfied: idna==2.* in /usr/local/lib/python3.6/dist-packages (from httpx==0.13.3->googletrans==3.1.0a0) (2.10)\n",
            "Requirement already satisfied: chardet==3.* in /usr/local/lib/python3.6/dist-packages (from httpx==0.13.3->googletrans==3.1.0a0) (3.0.4)\n",
            "Collecting hstspreload\n",
            "\u001b[?25l  Downloading https://files.pythonhosted.org/packages/dd/50/606213e12fb49c5eb667df0936223dcaf461f94e215ea60244b2b1e9b039/hstspreload-2020.12.22-py3-none-any.whl (994kB)\n",
            "\u001b[K     |████████████████████████████████| 1.0MB 12.7MB/s \n",
            "\u001b[?25hRequirement already satisfied: certifi in /usr/local/lib/python3.6/dist-packages (from httpx==0.13.3->googletrans==3.1.0a0) (2020.12.5)\n",
            "Collecting sniffio\n",
            "  Downloading https://files.pythonhosted.org/packages/52/b0/7b2e028b63d092804b6794595871f936aafa5e9322dcaaad50ebf67445b3/sniffio-1.2.0-py3-none-any.whl\n",
            "Collecting h11<0.10,>=0.8\n",
            "\u001b[?25l  Downloading https://files.pythonhosted.org/packages/5a/fd/3dad730b0f95e78aeeb742f96fa7bbecbdd56a58e405d3da440d5bfb90c6/h11-0.9.0-py2.py3-none-any.whl (53kB)\n",
            "\u001b[K     |████████████████████████████████| 61kB 7.3MB/s \n",
            "\u001b[?25hCollecting h2==3.*\n",
            "\u001b[?25l  Downloading https://files.pythonhosted.org/packages/25/de/da019bcc539eeab02f6d45836f23858ac467f584bfec7a526ef200242afe/h2-3.2.0-py2.py3-none-any.whl (65kB)\n",
            "\u001b[K     |████████████████████████████████| 71kB 7.1MB/s \n",
            "\u001b[?25hCollecting contextvars>=2.1; python_version < \"3.7\"\n",
            "  Downloading https://files.pythonhosted.org/packages/83/96/55b82d9f13763be9d672622e1b8106c85acb83edd7cc2fa5bc67cd9877e9/contextvars-2.4.tar.gz\n",
            "Collecting hyperframe<6,>=5.2.0\n",
            "  Downloading https://files.pythonhosted.org/packages/19/0c/bf88182bcb5dce3094e2f3e4fe20db28a9928cb7bd5b08024030e4b140db/hyperframe-5.2.0-py2.py3-none-any.whl\n",
            "Collecting hpack<4,>=3.0\n",
            "  Downloading https://files.pythonhosted.org/packages/8a/cc/e53517f4a1e13f74776ca93271caef378dadec14d71c61c949d759d3db69/hpack-3.0.0-py2.py3-none-any.whl\n",
            "Collecting immutables>=0.9\n",
            "\u001b[?25l  Downloading https://files.pythonhosted.org/packages/99/e0/ea6fd4697120327d26773b5a84853f897a68e33d3f9376b00a8ff96e4f63/immutables-0.14-cp36-cp36m-manylinux1_x86_64.whl (98kB)\n",
            "\u001b[K     |████████████████████████████████| 102kB 10.2MB/s \n",
            "\u001b[?25hBuilding wheels for collected packages: googletrans, contextvars\n",
            "  Building wheel for googletrans (setup.py) ... \u001b[?25l\u001b[?25hdone\n",
            "  Created wheel for googletrans: filename=googletrans-3.1.0a0-cp36-none-any.whl size=16368 sha256=f61cf5e2cceffe0b8ebe2d8fd4aab3bba181819a11a792a189ccbd554ad28caa\n",
            "  Stored in directory: /root/.cache/pip/wheels/27/7a/a0/aff3babbb775549ce6813cb8fa7ff3c0848c4dc62c20f8fdac\n",
            "  Building wheel for contextvars (setup.py) ... \u001b[?25l\u001b[?25hdone\n",
            "  Created wheel for contextvars: filename=contextvars-2.4-cp36-none-any.whl size=7667 sha256=36e69895c8a54a0653bd3062633a29283200000af40870c4279d53731c412688\n",
            "  Stored in directory: /root/.cache/pip/wheels/a5/7d/68/1ebae2668bda2228686e3c1cf16f2c2384cea6e9334ad5f6de\n",
            "Successfully built googletrans contextvars\n",
            "Installing collected packages: rfc3986, immutables, contextvars, sniffio, h11, hyperframe, hpack, h2, httpcore, hstspreload, httpx, googletrans\n",
            "Successfully installed contextvars-2.4 googletrans-3.1.0a0 h11-0.9.0 h2-3.2.0 hpack-3.0.0 hstspreload-2020.12.22 httpcore-0.9.1 httpx-0.13.3 hyperframe-5.2.0 immutables-0.14 rfc3986-1.4.0 sniffio-1.2.0\n"
          ],
          "name": "stdout"
        }
      ]
    },
    {
      "cell_type": "code",
      "metadata": {
        "id": "SBzPp-MKvp1s"
      },
      "source": [
        "from googletrans import Translator\r\n",
        "translator = Translator()"
      ],
      "execution_count": 3,
      "outputs": []
    },
    {
      "cell_type": "code",
      "metadata": {
        "id": "SGZDFLRJoyX8"
      },
      "source": [
        "from google.colab import files"
      ],
      "execution_count": 4,
      "outputs": []
    },
    {
      "cell_type": "code",
      "metadata": {
        "colab": {
          "resources": {
            "http://localhost:8080/nbextensions/google.colab/files.js": {
              "data": "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",
              "ok": true,
              "headers": [
                [
                  "content-type",
                  "application/javascript"
                ]
              ],
              "status": 200,
              "status_text": "OK"
            }
          },
          "base_uri": "https://localhost:8080/",
          "height": 72
        },
        "id": "9XSkRCoHoy5F",
        "outputId": "ebcfea5f-999d-49f6-ac20-50ef99b83a0b"
      },
      "source": [
        "uploaded = files.upload()"
      ],
      "execution_count": 5,
      "outputs": [
        {
          "output_type": "display_data",
          "data": {
            "text/html": [
              "\n",
              "     <input type=\"file\" id=\"files-f72ca0b6-fe9f-4c23-8640-9614539cef8e\" name=\"files[]\" multiple disabled\n",
              "        style=\"border:none\" />\n",
              "     <output id=\"result-f72ca0b6-fe9f-4c23-8640-9614539cef8e\">\n",
              "      Upload widget is only available when the cell has been executed in the\n",
              "      current browser session. Please rerun this cell to enable.\n",
              "      </output>\n",
              "      <script src=\"/nbextensions/google.colab/files.js\"></script> "
            ],
            "text/plain": [
              "<IPython.core.display.HTML object>"
            ]
          },
          "metadata": {
            "tags": []
          }
        },
        {
          "output_type": "stream",
          "text": [
            "Saving customer_translated.csv to customer_translated.csv\n"
          ],
          "name": "stdout"
        }
      ]
    },
    {
      "cell_type": "code",
      "metadata": {
        "id": "gsO0N7zgq-vd"
      },
      "source": [
        "#uploaded = files.upload()"
      ],
      "execution_count": null,
      "outputs": []
    },
    {
      "cell_type": "code",
      "metadata": {
        "id": "VzKIeCiHEtYn"
      },
      "source": [
        "import time"
      ],
      "execution_count": null,
      "outputs": []
    },
    {
      "cell_type": "code",
      "metadata": {
        "id": "hxHW56Feoy8G"
      },
      "source": [
        "#customer_df = pd.read_excel('Chinese Columns.xlsx', 'Customer', dtype={'Customer':str})\r\n",
        "#customer_df"
      ],
      "execution_count": null,
      "outputs": []
    },
    {
      "cell_type": "code",
      "metadata": {
        "id": "a9p326jIrCpQ",
        "colab": {
          "base_uri": "https://localhost:8080/",
          "height": 419
        },
        "outputId": "91445138-9c33-44a4-abbc-7abc71cc9505"
      },
      "source": [
        "customer_ggt_df = pd.read_csv('customer_translated.csv', encoding='utf_8_sig', dtype={\r\n",
        "'Customer':str,\r\n",
        "'Customer_cn_ggt':str,\r\n",
        "'Is_Translated':str,\r\n",
        "})\r\n",
        "customer_ggt_df"
      ],
      "execution_count": 6,
      "outputs": [
        {
          "output_type": "execute_result",
          "data": {
            "text/html": [
              "<div>\n",
              "<style scoped>\n",
              "    .dataframe tbody tr th:only-of-type {\n",
              "        vertical-align: middle;\n",
              "    }\n",
              "\n",
              "    .dataframe tbody tr th {\n",
              "        vertical-align: top;\n",
              "    }\n",
              "\n",
              "    .dataframe thead th {\n",
              "        text-align: right;\n",
              "    }\n",
              "</style>\n",
              "<table border=\"1\" class=\"dataframe\">\n",
              "  <thead>\n",
              "    <tr style=\"text-align: right;\">\n",
              "      <th></th>\n",
              "      <th>Customer</th>\n",
              "      <th>Customer_cn_ggt</th>\n",
              "      <th>Is_Translated</th>\n",
              "    </tr>\n",
              "  </thead>\n",
              "  <tbody>\n",
              "    <tr>\n",
              "      <th>0</th>\n",
              "      <td>3M材料技术（广州）有限公司</td>\n",
              "      <td>3M Material Technology (Guangzhou) Co., Ltd.</td>\n",
              "      <td>Yes</td>\n",
              "    </tr>\n",
              "    <tr>\n",
              "      <th>1</th>\n",
              "      <td>GGP园林产品（广州）有限公司</td>\n",
              "      <td>GGP Garden Products (Guangzhou) Co., Ltd.</td>\n",
              "      <td>Yes</td>\n",
              "    </tr>\n",
              "    <tr>\n",
              "      <th>2</th>\n",
              "      <td>LG化学（天津）工程塑料有限公司</td>\n",
              "      <td>LG Chemical (Tianjin) Engineering Plastics Co....</td>\n",
              "      <td>Yes</td>\n",
              "    </tr>\n",
              "    <tr>\n",
              "      <th>3</th>\n",
              "      <td>PPG涂料(天津)有限公司</td>\n",
              "      <td>PPG Paint (Tianjin) Co., Ltd.</td>\n",
              "      <td>Yes</td>\n",
              "    </tr>\n",
              "    <tr>\n",
              "      <th>4</th>\n",
              "      <td>一关通（广州）国际供应链有限公司</td>\n",
              "      <td>Yiguantong (Guangzhou) International Supply Ch...</td>\n",
              "      <td>Yes</td>\n",
              "    </tr>\n",
              "    <tr>\n",
              "      <th>...</th>\n",
              "      <td>...</td>\n",
              "      <td>...</td>\n",
              "      <td>...</td>\n",
              "    </tr>\n",
              "    <tr>\n",
              "      <th>12266</th>\n",
              "      <td>龙海市龙峰塑料包装</td>\n",
              "      <td>龙海市龙峰塑料包装</td>\n",
              "      <td>No</td>\n",
              "    </tr>\n",
              "    <tr>\n",
              "      <th>12267</th>\n",
              "      <td>龙海市龙峰塑料包装有限公司</td>\n",
              "      <td>龙海市龙峰塑料包装有限公司</td>\n",
              "      <td>No</td>\n",
              "    </tr>\n",
              "    <tr>\n",
              "      <th>12268</th>\n",
              "      <td>龙门天美花艺有限公司</td>\n",
              "      <td>龙门天美花艺有限公司</td>\n",
              "      <td>No</td>\n",
              "    </tr>\n",
              "    <tr>\n",
              "      <th>12269</th>\n",
              "      <td>龙霸顺兴(江门)塑料有限公司</td>\n",
              "      <td>龙霸顺兴(江门)塑料有限公司</td>\n",
              "      <td>No</td>\n",
              "    </tr>\n",
              "    <tr>\n",
              "      <th>12270</th>\n",
              "      <td>龙霸顺兴（江门）塑料有限公司</td>\n",
              "      <td>龙霸顺兴（江门）塑料有限公司</td>\n",
              "      <td>No</td>\n",
              "    </tr>\n",
              "  </tbody>\n",
              "</table>\n",
              "<p>12271 rows × 3 columns</p>\n",
              "</div>"
            ],
            "text/plain": [
              "               Customer  ... Is_Translated\n",
              "0        3M材料技术（广州）有限公司  ...           Yes\n",
              "1       GGP园林产品（广州）有限公司  ...           Yes\n",
              "2      LG化学（天津）工程塑料有限公司  ...           Yes\n",
              "3         PPG涂料(天津)有限公司  ...           Yes\n",
              "4      一关通（广州）国际供应链有限公司  ...           Yes\n",
              "...                 ...  ...           ...\n",
              "12266         龙海市龙峰塑料包装  ...            No\n",
              "12267     龙海市龙峰塑料包装有限公司  ...            No\n",
              "12268        龙门天美花艺有限公司  ...            No\n",
              "12269    龙霸顺兴(江门)塑料有限公司  ...            No\n",
              "12270    龙霸顺兴（江门）塑料有限公司  ...            No\n",
              "\n",
              "[12271 rows x 3 columns]"
            ]
          },
          "metadata": {
            "tags": []
          },
          "execution_count": 6
        }
      ]
    },
    {
      "cell_type": "code",
      "metadata": {
        "id": "4_eHDTlNozCE"
      },
      "source": [
        "#customer_df['Customer_cn_ggt'] = customer_df['Customer'].apply(translator.translate, src='zh-cn').apply(getattr, args=('text',))\r\n",
        "#.map(lambda x: translator.translate(x, src='zh-TW', dest='en').text)\r\n",
        "#customer_df"
      ],
      "execution_count": null,
      "outputs": []
    },
    {
      "cell_type": "code",
      "metadata": {
        "id": "z02OuJaNTv6p",
        "colab": {
          "base_uri": "https://localhost:8080/",
          "height": 359
        },
        "outputId": "c749aa39-22c6-42d7-bea9-73eeb55cb237"
      },
      "source": [
        "tmp_df = customer_ggt_df[customer_ggt_df['Is_Translated']=='No'].head(10).copy()\r\n",
        "tmp_df['Customer_cn_ggt'] = tmp_df['Customer'].apply(translator.translate, src='zh-cn').apply(getattr, args=('text',))\r\n",
        "tmp_df"
      ],
      "execution_count": 7,
      "outputs": [
        {
          "output_type": "execute_result",
          "data": {
            "text/html": [
              "<div>\n",
              "<style scoped>\n",
              "    .dataframe tbody tr th:only-of-type {\n",
              "        vertical-align: middle;\n",
              "    }\n",
              "\n",
              "    .dataframe tbody tr th {\n",
              "        vertical-align: top;\n",
              "    }\n",
              "\n",
              "    .dataframe thead th {\n",
              "        text-align: right;\n",
              "    }\n",
              "</style>\n",
              "<table border=\"1\" class=\"dataframe\">\n",
              "  <thead>\n",
              "    <tr style=\"text-align: right;\">\n",
              "      <th></th>\n",
              "      <th>Customer</th>\n",
              "      <th>Customer_cn_ggt</th>\n",
              "      <th>Is_Translated</th>\n",
              "    </tr>\n",
              "  </thead>\n",
              "  <tbody>\n",
              "    <tr>\n",
              "      <th>1321</th>\n",
              "      <td>东莞塘厦南太电线电缆厂</td>\n",
              "      <td>Dongguan Tangxia Nantai Wire And Cable Factory</td>\n",
              "      <td>No</td>\n",
              "    </tr>\n",
              "    <tr>\n",
              "      <th>1322</th>\n",
              "      <td>东莞塘厦好活塑胶五金厂</td>\n",
              "      <td>Dongguan Tangxia Haohuo Plastic Hardware Factory</td>\n",
              "      <td>No</td>\n",
              "    </tr>\n",
              "    <tr>\n",
              "      <th>1323</th>\n",
              "      <td>东莞塘厦彩兴塑胶五金厂</td>\n",
              "      <td>Dongguan Tangxia Caixing Plastic Hardware Factory</td>\n",
              "      <td>No</td>\n",
              "    </tr>\n",
              "    <tr>\n",
              "      <th>1324</th>\n",
              "      <td>东莞塘厦永泰胶袋厂</td>\n",
              "      <td>Dongguan Tangxia Yongtai Plastic Bag Factory</td>\n",
              "      <td>No</td>\n",
              "    </tr>\n",
              "    <tr>\n",
              "      <th>1325</th>\n",
              "      <td>东莞大伟成记玩具有限公司</td>\n",
              "      <td>Dongguan Dawei Chengji Toys Co., Ltd.</td>\n",
              "      <td>No</td>\n",
              "    </tr>\n",
              "    <tr>\n",
              "      <th>1326</th>\n",
              "      <td>东莞大华玩具制品有限公司</td>\n",
              "      <td>Dongguan Dahua Toy Products Co., Ltd.</td>\n",
              "      <td>No</td>\n",
              "    </tr>\n",
              "    <tr>\n",
              "      <th>1327</th>\n",
              "      <td>东莞大发玩具厂有限公司</td>\n",
              "      <td>Dongguan Dafa Toys Factory Co., Ltd.</td>\n",
              "      <td>No</td>\n",
              "    </tr>\n",
              "    <tr>\n",
              "      <th>1328</th>\n",
              "      <td>东莞大岭山永盛玩具有限公司</td>\n",
              "      <td>Dongguan Dalingshan Yongsheng Toys Co., Ltd.</td>\n",
              "      <td>No</td>\n",
              "    </tr>\n",
              "    <tr>\n",
              "      <th>1329</th>\n",
              "      <td>东莞大岭山金桔新兴玩具制品</td>\n",
              "      <td>Dongguan Dalingshan Kumquat Xinxing Toy Products</td>\n",
              "      <td>No</td>\n",
              "    </tr>\n",
              "    <tr>\n",
              "      <th>1330</th>\n",
              "      <td>东莞大岭山金桔新兴玩具制品有限</td>\n",
              "      <td>Dongguan Dalingshan Kumquat Xinxing Toys Co., ...</td>\n",
              "      <td>No</td>\n",
              "    </tr>\n",
              "  </tbody>\n",
              "</table>\n",
              "</div>"
            ],
            "text/plain": [
              "             Customer  ... Is_Translated\n",
              "1321      东莞塘厦南太电线电缆厂  ...            No\n",
              "1322      东莞塘厦好活塑胶五金厂  ...            No\n",
              "1323      东莞塘厦彩兴塑胶五金厂  ...            No\n",
              "1324        东莞塘厦永泰胶袋厂  ...            No\n",
              "1325     东莞大伟成记玩具有限公司  ...            No\n",
              "1326     东莞大华玩具制品有限公司  ...            No\n",
              "1327      东莞大发玩具厂有限公司  ...            No\n",
              "1328    东莞大岭山永盛玩具有限公司  ...            No\n",
              "1329    东莞大岭山金桔新兴玩具制品  ...            No\n",
              "1330  东莞大岭山金桔新兴玩具制品有限  ...            No\n",
              "\n",
              "[10 rows x 3 columns]"
            ]
          },
          "metadata": {
            "tags": []
          },
          "execution_count": 7
        }
      ]
    },
    {
      "cell_type": "code",
      "metadata": {
        "id": "P9rXF4zUMNGL"
      },
      "source": [
        "#customer_ggt_df.loc[:,'Is_Translated'] = 'No'\r\n",
        "#customer_ggt_df.loc[customer_ggt_df['Customer']!=customer_ggt_df['Customer_cn_ggt'], 'Is_Translated'] = 'Yes'\r\n",
        "#customer_ggt_df[customer_ggt_df['Is_Translated']=='No']"
      ],
      "execution_count": null,
      "outputs": []
    },
    {
      "cell_type": "code",
      "metadata": {
        "id": "q1FBWYk7wZc1",
        "colab": {
          "base_uri": "https://localhost:8080/",
          "height": 419
        },
        "outputId": "37d9ac71-c857-488b-a532-7d43aca769f2"
      },
      "source": [
        "customer_ggt_df[customer_ggt_df['Is_Translated']=='Yes']"
      ],
      "execution_count": 8,
      "outputs": [
        {
          "output_type": "execute_result",
          "data": {
            "text/html": [
              "<div>\n",
              "<style scoped>\n",
              "    .dataframe tbody tr th:only-of-type {\n",
              "        vertical-align: middle;\n",
              "    }\n",
              "\n",
              "    .dataframe tbody tr th {\n",
              "        vertical-align: top;\n",
              "    }\n",
              "\n",
              "    .dataframe thead th {\n",
              "        text-align: right;\n",
              "    }\n",
              "</style>\n",
              "<table border=\"1\" class=\"dataframe\">\n",
              "  <thead>\n",
              "    <tr style=\"text-align: right;\">\n",
              "      <th></th>\n",
              "      <th>Customer</th>\n",
              "      <th>Customer_cn_ggt</th>\n",
              "      <th>Is_Translated</th>\n",
              "    </tr>\n",
              "  </thead>\n",
              "  <tbody>\n",
              "    <tr>\n",
              "      <th>0</th>\n",
              "      <td>3M材料技术（广州）有限公司</td>\n",
              "      <td>3M Material Technology (Guangzhou) Co., Ltd.</td>\n",
              "      <td>Yes</td>\n",
              "    </tr>\n",
              "    <tr>\n",
              "      <th>1</th>\n",
              "      <td>GGP园林产品（广州）有限公司</td>\n",
              "      <td>GGP Garden Products (Guangzhou) Co., Ltd.</td>\n",
              "      <td>Yes</td>\n",
              "    </tr>\n",
              "    <tr>\n",
              "      <th>2</th>\n",
              "      <td>LG化学（天津）工程塑料有限公司</td>\n",
              "      <td>LG Chemical (Tianjin) Engineering Plastics Co....</td>\n",
              "      <td>Yes</td>\n",
              "    </tr>\n",
              "    <tr>\n",
              "      <th>3</th>\n",
              "      <td>PPG涂料(天津)有限公司</td>\n",
              "      <td>PPG Paint (Tianjin) Co., Ltd.</td>\n",
              "      <td>Yes</td>\n",
              "    </tr>\n",
              "    <tr>\n",
              "      <th>4</th>\n",
              "      <td>一关通（广州）国际供应链有限公司</td>\n",
              "      <td>Yiguantong (Guangzhou) International Supply Ch...</td>\n",
              "      <td>Yes</td>\n",
              "    </tr>\n",
              "    <tr>\n",
              "      <th>...</th>\n",
              "      <td>...</td>\n",
              "      <td>...</td>\n",
              "      <td>...</td>\n",
              "    </tr>\n",
              "    <tr>\n",
              "      <th>1316</th>\n",
              "      <td>东莞基立线缆有限公司</td>\n",
              "      <td>Dongguan Jili Cable Co., Ltd.</td>\n",
              "      <td>Yes</td>\n",
              "    </tr>\n",
              "    <tr>\n",
              "      <th>1317</th>\n",
              "      <td>东莞堡盛威塑胶五金制品有限公司</td>\n",
              "      <td>Dongguan Baoshengwei Plastic Hardware Products...</td>\n",
              "      <td>Yes</td>\n",
              "    </tr>\n",
              "    <tr>\n",
              "      <th>1318</th>\n",
              "      <td>东莞塑盟商贸有限公司</td>\n",
              "      <td>Dongguan Plastic Union Trading Company</td>\n",
              "      <td>Yes</td>\n",
              "    </tr>\n",
              "    <tr>\n",
              "      <th>1319</th>\n",
              "      <td>东莞塘厦协信胶袋制品</td>\n",
              "      <td>Dongguan Tangxia Xiexin Plastic Bag Products</td>\n",
              "      <td>Yes</td>\n",
              "    </tr>\n",
              "    <tr>\n",
              "      <th>1320</th>\n",
              "      <td>东莞塘厦协信胶袋制品有限公司</td>\n",
              "      <td>Dongguan Tangxia Xiexin Plastic Bag Products C...</td>\n",
              "      <td>Yes</td>\n",
              "    </tr>\n",
              "  </tbody>\n",
              "</table>\n",
              "<p>1321 rows × 3 columns</p>\n",
              "</div>"
            ],
            "text/plain": [
              "              Customer  ... Is_Translated\n",
              "0       3M材料技术（广州）有限公司  ...           Yes\n",
              "1      GGP园林产品（广州）有限公司  ...           Yes\n",
              "2     LG化学（天津）工程塑料有限公司  ...           Yes\n",
              "3        PPG涂料(天津)有限公司  ...           Yes\n",
              "4     一关通（广州）国际供应链有限公司  ...           Yes\n",
              "...                ...  ...           ...\n",
              "1316        东莞基立线缆有限公司  ...           Yes\n",
              "1317   东莞堡盛威塑胶五金制品有限公司  ...           Yes\n",
              "1318        东莞塑盟商贸有限公司  ...           Yes\n",
              "1319        东莞塘厦协信胶袋制品  ...           Yes\n",
              "1320    东莞塘厦协信胶袋制品有限公司  ...           Yes\n",
              "\n",
              "[1321 rows x 3 columns]"
            ]
          },
          "metadata": {
            "tags": []
          },
          "execution_count": 8
        }
      ]
    },
    {
      "cell_type": "code",
      "metadata": {
        "id": "hm1AWJXdRJPY"
      },
      "source": [
        "#customer_ggt_df.loc[:,'Is_Translated'] = 'No'\r\n",
        "#customer_ggt_df.loc[(customer_ggt_df['Customer']!=customer_ggt_df['Customer_cn_ggt']) & (customer_ggt_df['Customer_cn_ggt'].notnull()), 'Is_Translated'] = 'Yes'"
      ],
      "execution_count": null,
      "outputs": []
    },
    {
      "cell_type": "code",
      "metadata": {
        "id": "70F7VUWSwmD6"
      },
      "source": [
        "customer_translated_df = pd.DataFrame()"
      ],
      "execution_count": 9,
      "outputs": []
    },
    {
      "cell_type": "code",
      "metadata": {
        "id": "w9gVsrF3xHfv",
        "colab": {
          "base_uri": "https://localhost:8080/",
          "height": 419
        },
        "outputId": "b3c70d14-5289-4d3a-f027-0e459744e837"
      },
      "source": [
        "tmp_df = customer_ggt_df[customer_ggt_df['Is_Translated']=='Yes'].copy()\r\n",
        "customer_translated_df = customer_translated_df.append(tmp_df)\r\n",
        "customer_translated_df"
      ],
      "execution_count": 10,
      "outputs": [
        {
          "output_type": "execute_result",
          "data": {
            "text/html": [
              "<div>\n",
              "<style scoped>\n",
              "    .dataframe tbody tr th:only-of-type {\n",
              "        vertical-align: middle;\n",
              "    }\n",
              "\n",
              "    .dataframe tbody tr th {\n",
              "        vertical-align: top;\n",
              "    }\n",
              "\n",
              "    .dataframe thead th {\n",
              "        text-align: right;\n",
              "    }\n",
              "</style>\n",
              "<table border=\"1\" class=\"dataframe\">\n",
              "  <thead>\n",
              "    <tr style=\"text-align: right;\">\n",
              "      <th></th>\n",
              "      <th>Customer</th>\n",
              "      <th>Customer_cn_ggt</th>\n",
              "      <th>Is_Translated</th>\n",
              "    </tr>\n",
              "  </thead>\n",
              "  <tbody>\n",
              "    <tr>\n",
              "      <th>0</th>\n",
              "      <td>3M材料技术（广州）有限公司</td>\n",
              "      <td>3M Material Technology (Guangzhou) Co., Ltd.</td>\n",
              "      <td>Yes</td>\n",
              "    </tr>\n",
              "    <tr>\n",
              "      <th>1</th>\n",
              "      <td>GGP园林产品（广州）有限公司</td>\n",
              "      <td>GGP Garden Products (Guangzhou) Co., Ltd.</td>\n",
              "      <td>Yes</td>\n",
              "    </tr>\n",
              "    <tr>\n",
              "      <th>2</th>\n",
              "      <td>LG化学（天津）工程塑料有限公司</td>\n",
              "      <td>LG Chemical (Tianjin) Engineering Plastics Co....</td>\n",
              "      <td>Yes</td>\n",
              "    </tr>\n",
              "    <tr>\n",
              "      <th>3</th>\n",
              "      <td>PPG涂料(天津)有限公司</td>\n",
              "      <td>PPG Paint (Tianjin) Co., Ltd.</td>\n",
              "      <td>Yes</td>\n",
              "    </tr>\n",
              "    <tr>\n",
              "      <th>4</th>\n",
              "      <td>一关通（广州）国际供应链有限公司</td>\n",
              "      <td>Yiguantong (Guangzhou) International Supply Ch...</td>\n",
              "      <td>Yes</td>\n",
              "    </tr>\n",
              "    <tr>\n",
              "      <th>...</th>\n",
              "      <td>...</td>\n",
              "      <td>...</td>\n",
              "      <td>...</td>\n",
              "    </tr>\n",
              "    <tr>\n",
              "      <th>1316</th>\n",
              "      <td>东莞基立线缆有限公司</td>\n",
              "      <td>Dongguan Jili Cable Co., Ltd.</td>\n",
              "      <td>Yes</td>\n",
              "    </tr>\n",
              "    <tr>\n",
              "      <th>1317</th>\n",
              "      <td>东莞堡盛威塑胶五金制品有限公司</td>\n",
              "      <td>Dongguan Baoshengwei Plastic Hardware Products...</td>\n",
              "      <td>Yes</td>\n",
              "    </tr>\n",
              "    <tr>\n",
              "      <th>1318</th>\n",
              "      <td>东莞塑盟商贸有限公司</td>\n",
              "      <td>Dongguan Plastic Union Trading Company</td>\n",
              "      <td>Yes</td>\n",
              "    </tr>\n",
              "    <tr>\n",
              "      <th>1319</th>\n",
              "      <td>东莞塘厦协信胶袋制品</td>\n",
              "      <td>Dongguan Tangxia Xiexin Plastic Bag Products</td>\n",
              "      <td>Yes</td>\n",
              "    </tr>\n",
              "    <tr>\n",
              "      <th>1320</th>\n",
              "      <td>东莞塘厦协信胶袋制品有限公司</td>\n",
              "      <td>Dongguan Tangxia Xiexin Plastic Bag Products C...</td>\n",
              "      <td>Yes</td>\n",
              "    </tr>\n",
              "  </tbody>\n",
              "</table>\n",
              "<p>1321 rows × 3 columns</p>\n",
              "</div>"
            ],
            "text/plain": [
              "              Customer  ... Is_Translated\n",
              "0       3M材料技术（广州）有限公司  ...           Yes\n",
              "1      GGP园林产品（广州）有限公司  ...           Yes\n",
              "2     LG化学（天津）工程塑料有限公司  ...           Yes\n",
              "3        PPG涂料(天津)有限公司  ...           Yes\n",
              "4     一关通（广州）国际供应链有限公司  ...           Yes\n",
              "...                ...  ...           ...\n",
              "1316        东莞基立线缆有限公司  ...           Yes\n",
              "1317   东莞堡盛威塑胶五金制品有限公司  ...           Yes\n",
              "1318        东莞塑盟商贸有限公司  ...           Yes\n",
              "1319        东莞塘厦协信胶袋制品  ...           Yes\n",
              "1320    东莞塘厦协信胶袋制品有限公司  ...           Yes\n",
              "\n",
              "[1321 rows x 3 columns]"
            ]
          },
          "metadata": {
            "tags": []
          },
          "execution_count": 10
        }
      ]
    },
    {
      "cell_type": "code",
      "metadata": {
        "id": "EUpLw5zBxrai",
        "colab": {
          "base_uri": "https://localhost:8080/",
          "height": 419
        },
        "outputId": "9039deab-1173-46a9-fb23-7fa9314f956e"
      },
      "source": [
        "customer_ggt_df.drop(customer_ggt_df[customer_ggt_df['Is_Translated']=='Yes'].index, inplace=True)\r\n",
        "customer_ggt_df"
      ],
      "execution_count": 11,
      "outputs": [
        {
          "output_type": "execute_result",
          "data": {
            "text/html": [
              "<div>\n",
              "<style scoped>\n",
              "    .dataframe tbody tr th:only-of-type {\n",
              "        vertical-align: middle;\n",
              "    }\n",
              "\n",
              "    .dataframe tbody tr th {\n",
              "        vertical-align: top;\n",
              "    }\n",
              "\n",
              "    .dataframe thead th {\n",
              "        text-align: right;\n",
              "    }\n",
              "</style>\n",
              "<table border=\"1\" class=\"dataframe\">\n",
              "  <thead>\n",
              "    <tr style=\"text-align: right;\">\n",
              "      <th></th>\n",
              "      <th>Customer</th>\n",
              "      <th>Customer_cn_ggt</th>\n",
              "      <th>Is_Translated</th>\n",
              "    </tr>\n",
              "  </thead>\n",
              "  <tbody>\n",
              "    <tr>\n",
              "      <th>1321</th>\n",
              "      <td>东莞塘厦南太电线电缆厂</td>\n",
              "      <td>东莞塘厦南太电线电缆厂</td>\n",
              "      <td>No</td>\n",
              "    </tr>\n",
              "    <tr>\n",
              "      <th>1322</th>\n",
              "      <td>东莞塘厦好活塑胶五金厂</td>\n",
              "      <td>东莞塘厦好活塑胶五金厂</td>\n",
              "      <td>No</td>\n",
              "    </tr>\n",
              "    <tr>\n",
              "      <th>1323</th>\n",
              "      <td>东莞塘厦彩兴塑胶五金厂</td>\n",
              "      <td>东莞塘厦彩兴塑胶五金厂</td>\n",
              "      <td>No</td>\n",
              "    </tr>\n",
              "    <tr>\n",
              "      <th>1324</th>\n",
              "      <td>东莞塘厦永泰胶袋厂</td>\n",
              "      <td>东莞塘厦永泰胶袋厂</td>\n",
              "      <td>No</td>\n",
              "    </tr>\n",
              "    <tr>\n",
              "      <th>1325</th>\n",
              "      <td>东莞大伟成记玩具有限公司</td>\n",
              "      <td>东莞大伟成记玩具有限公司</td>\n",
              "      <td>No</td>\n",
              "    </tr>\n",
              "    <tr>\n",
              "      <th>...</th>\n",
              "      <td>...</td>\n",
              "      <td>...</td>\n",
              "      <td>...</td>\n",
              "    </tr>\n",
              "    <tr>\n",
              "      <th>12266</th>\n",
              "      <td>龙海市龙峰塑料包装</td>\n",
              "      <td>龙海市龙峰塑料包装</td>\n",
              "      <td>No</td>\n",
              "    </tr>\n",
              "    <tr>\n",
              "      <th>12267</th>\n",
              "      <td>龙海市龙峰塑料包装有限公司</td>\n",
              "      <td>龙海市龙峰塑料包装有限公司</td>\n",
              "      <td>No</td>\n",
              "    </tr>\n",
              "    <tr>\n",
              "      <th>12268</th>\n",
              "      <td>龙门天美花艺有限公司</td>\n",
              "      <td>龙门天美花艺有限公司</td>\n",
              "      <td>No</td>\n",
              "    </tr>\n",
              "    <tr>\n",
              "      <th>12269</th>\n",
              "      <td>龙霸顺兴(江门)塑料有限公司</td>\n",
              "      <td>龙霸顺兴(江门)塑料有限公司</td>\n",
              "      <td>No</td>\n",
              "    </tr>\n",
              "    <tr>\n",
              "      <th>12270</th>\n",
              "      <td>龙霸顺兴（江门）塑料有限公司</td>\n",
              "      <td>龙霸顺兴（江门）塑料有限公司</td>\n",
              "      <td>No</td>\n",
              "    </tr>\n",
              "  </tbody>\n",
              "</table>\n",
              "<p>10950 rows × 3 columns</p>\n",
              "</div>"
            ],
            "text/plain": [
              "             Customer Customer_cn_ggt Is_Translated\n",
              "1321      东莞塘厦南太电线电缆厂     东莞塘厦南太电线电缆厂            No\n",
              "1322      东莞塘厦好活塑胶五金厂     东莞塘厦好活塑胶五金厂            No\n",
              "1323      东莞塘厦彩兴塑胶五金厂     东莞塘厦彩兴塑胶五金厂            No\n",
              "1324        东莞塘厦永泰胶袋厂       东莞塘厦永泰胶袋厂            No\n",
              "1325     东莞大伟成记玩具有限公司    东莞大伟成记玩具有限公司            No\n",
              "...               ...             ...           ...\n",
              "12266       龙海市龙峰塑料包装       龙海市龙峰塑料包装            No\n",
              "12267   龙海市龙峰塑料包装有限公司   龙海市龙峰塑料包装有限公司            No\n",
              "12268      龙门天美花艺有限公司      龙门天美花艺有限公司            No\n",
              "12269  龙霸顺兴(江门)塑料有限公司  龙霸顺兴(江门)塑料有限公司            No\n",
              "12270  龙霸顺兴（江门）塑料有限公司  龙霸顺兴（江门）塑料有限公司            No\n",
              "\n",
              "[10950 rows x 3 columns]"
            ]
          },
          "metadata": {
            "tags": []
          },
          "execution_count": 11
        }
      ]
    },
    {
      "cell_type": "code",
      "metadata": {
        "colab": {
          "base_uri": "https://localhost:8080/",
          "height": 1000
        },
        "id": "laPYWk3QMOfU",
        "outputId": "149389e7-da2b-4b3e-a84d-63051ae9d21a"
      },
      "source": [
        "i=0\r\n",
        "\r\n",
        "while (len(customer_ggt_df[customer_ggt_df['Is_Translated']=='No']) > 0) & (i<100):\r\n",
        "  #print('Non-translate records = '+str(len(customer_ggt_df[customer_ggt_df['Is_Translated']=='No'])))\r\n",
        "\r\n",
        "  tmp_df = customer_ggt_df.head(10).copy()\r\n",
        "  tmp_df['Customer_cn_ggt'] = tmp_df['Customer'].apply(translator.translate, src='zh-cn').apply(getattr, args=('text',))\r\n",
        "  tmp_df.loc[(tmp_df['Customer']!=tmp_df['Customer_cn_ggt']) & (tmp_df['Customer_cn_ggt'].notnull()), 'Is_Translated'] = 'Yes'\r\n",
        "  customer_translated_df = customer_translated_df.append(tmp_df)\r\n",
        "\r\n",
        "  customer_ggt_df.drop(customer_ggt_df.head(10).index, inplace=True)\r\n",
        "  \r\n",
        "  i += 1\r\n",
        "  print('i = '+str(i))\r\n",
        "  time.sleep(5)\r\n",
        "\r\n",
        "customer_translated_df"
      ],
      "execution_count": 14,
      "outputs": [
        {
          "output_type": "stream",
          "text": [
            "i = 1\n",
            "i = 2\n",
            "i = 3\n",
            "i = 4\n",
            "i = 5\n",
            "i = 6\n",
            "i = 7\n",
            "i = 8\n",
            "i = 9\n",
            "i = 10\n",
            "i = 11\n",
            "i = 12\n",
            "i = 13\n",
            "i = 14\n",
            "i = 15\n",
            "i = 16\n",
            "i = 17\n",
            "i = 18\n",
            "i = 19\n",
            "i = 20\n",
            "i = 21\n",
            "i = 22\n",
            "i = 23\n",
            "i = 24\n",
            "i = 25\n",
            "i = 26\n",
            "i = 27\n",
            "i = 28\n",
            "i = 29\n",
            "i = 30\n",
            "i = 31\n",
            "i = 32\n",
            "i = 33\n",
            "i = 34\n",
            "i = 35\n",
            "i = 36\n",
            "i = 37\n",
            "i = 38\n",
            "i = 39\n",
            "i = 40\n",
            "i = 41\n",
            "i = 42\n",
            "i = 43\n",
            "i = 44\n",
            "i = 45\n",
            "i = 46\n",
            "i = 47\n",
            "i = 48\n",
            "i = 49\n",
            "i = 50\n",
            "i = 51\n",
            "i = 52\n",
            "i = 53\n",
            "i = 54\n",
            "i = 55\n",
            "i = 56\n",
            "i = 57\n",
            "i = 58\n",
            "i = 59\n",
            "i = 60\n",
            "i = 61\n",
            "i = 62\n",
            "i = 63\n",
            "i = 64\n",
            "i = 65\n",
            "i = 66\n",
            "i = 67\n",
            "i = 68\n",
            "i = 69\n",
            "i = 70\n",
            "i = 71\n",
            "i = 72\n",
            "i = 73\n",
            "i = 74\n",
            "i = 75\n",
            "i = 76\n",
            "i = 77\n",
            "i = 78\n",
            "i = 79\n",
            "i = 80\n",
            "i = 81\n",
            "i = 82\n",
            "i = 83\n",
            "i = 84\n",
            "i = 85\n",
            "i = 86\n",
            "i = 87\n",
            "i = 88\n",
            "i = 89\n",
            "i = 90\n",
            "i = 91\n",
            "i = 92\n",
            "i = 93\n",
            "i = 94\n",
            "i = 95\n",
            "i = 96\n",
            "i = 97\n",
            "i = 98\n",
            "i = 99\n",
            "i = 100\n"
          ],
          "name": "stdout"
        },
        {
          "output_type": "execute_result",
          "data": {
            "text/html": [
              "<div>\n",
              "<style scoped>\n",
              "    .dataframe tbody tr th:only-of-type {\n",
              "        vertical-align: middle;\n",
              "    }\n",
              "\n",
              "    .dataframe tbody tr th {\n",
              "        vertical-align: top;\n",
              "    }\n",
              "\n",
              "    .dataframe thead th {\n",
              "        text-align: right;\n",
              "    }\n",
              "</style>\n",
              "<table border=\"1\" class=\"dataframe\">\n",
              "  <thead>\n",
              "    <tr style=\"text-align: right;\">\n",
              "      <th></th>\n",
              "      <th>Customer</th>\n",
              "      <th>Customer_cn_ggt</th>\n",
              "      <th>Is_Translated</th>\n",
              "    </tr>\n",
              "  </thead>\n",
              "  <tbody>\n",
              "    <tr>\n",
              "      <th>0</th>\n",
              "      <td>3M材料技术（广州）有限公司</td>\n",
              "      <td>3M Material Technology (Guangzhou) Co., Ltd.</td>\n",
              "      <td>Yes</td>\n",
              "    </tr>\n",
              "    <tr>\n",
              "      <th>1</th>\n",
              "      <td>GGP园林产品（广州）有限公司</td>\n",
              "      <td>GGP Garden Products (Guangzhou) Co., Ltd.</td>\n",
              "      <td>Yes</td>\n",
              "    </tr>\n",
              "    <tr>\n",
              "      <th>2</th>\n",
              "      <td>LG化学（天津）工程塑料有限公司</td>\n",
              "      <td>LG Chemical (Tianjin) Engineering Plastics Co....</td>\n",
              "      <td>Yes</td>\n",
              "    </tr>\n",
              "    <tr>\n",
              "      <th>3</th>\n",
              "      <td>PPG涂料(天津)有限公司</td>\n",
              "      <td>PPG Paint (Tianjin) Co., Ltd.</td>\n",
              "      <td>Yes</td>\n",
              "    </tr>\n",
              "    <tr>\n",
              "      <th>4</th>\n",
              "      <td>一关通（广州）国际供应链有限公司</td>\n",
              "      <td>Yiguantong (Guangzhou) International Supply Ch...</td>\n",
              "      <td>Yes</td>\n",
              "    </tr>\n",
              "    <tr>\n",
              "      <th>...</th>\n",
              "      <td>...</td>\n",
              "      <td>...</td>\n",
              "      <td>...</td>\n",
              "    </tr>\n",
              "    <tr>\n",
              "      <th>2326</th>\n",
              "      <td>中山大丹礼品工艺制品有限公司</td>\n",
              "      <td>中山大丹礼品工艺制品有限公司</td>\n",
              "      <td>No</td>\n",
              "    </tr>\n",
              "    <tr>\n",
              "      <th>2327</th>\n",
              "      <td>中山天彩包装有限公司</td>\n",
              "      <td>中山天彩包装有限公司</td>\n",
              "      <td>No</td>\n",
              "    </tr>\n",
              "    <tr>\n",
              "      <th>2328</th>\n",
              "      <td>中山宇塑顺贸易有限公司</td>\n",
              "      <td>中山宇塑顺贸易有限公司</td>\n",
              "      <td>No</td>\n",
              "    </tr>\n",
              "    <tr>\n",
              "      <th>2329</th>\n",
              "      <td>中山守强塑胶工业有限公司</td>\n",
              "      <td>中山守强塑胶工业有限公司</td>\n",
              "      <td>No</td>\n",
              "    </tr>\n",
              "    <tr>\n",
              "      <th>2330</th>\n",
              "      <td>中山实化成塑料有限公司</td>\n",
              "      <td>中山实化成塑料有限公司</td>\n",
              "      <td>No</td>\n",
              "    </tr>\n",
              "  </tbody>\n",
              "</table>\n",
              "<p>2331 rows × 3 columns</p>\n",
              "</div>"
            ],
            "text/plain": [
              "              Customer  ... Is_Translated\n",
              "0       3M材料技术（广州）有限公司  ...           Yes\n",
              "1      GGP园林产品（广州）有限公司  ...           Yes\n",
              "2     LG化学（天津）工程塑料有限公司  ...           Yes\n",
              "3        PPG涂料(天津)有限公司  ...           Yes\n",
              "4     一关通（广州）国际供应链有限公司  ...           Yes\n",
              "...                ...  ...           ...\n",
              "2326    中山大丹礼品工艺制品有限公司  ...            No\n",
              "2327        中山天彩包装有限公司  ...            No\n",
              "2328       中山宇塑顺贸易有限公司  ...            No\n",
              "2329      中山守强塑胶工业有限公司  ...            No\n",
              "2330       中山实化成塑料有限公司  ...            No\n",
              "\n",
              "[2331 rows x 3 columns]"
            ]
          },
          "metadata": {
            "tags": []
          },
          "execution_count": 14
        }
      ]
    },
    {
      "cell_type": "code",
      "metadata": {
        "colab": {
          "base_uri": "https://localhost:8080/",
          "height": 419
        },
        "id": "XiRoqnBEPWif",
        "outputId": "f24c6a65-e37f-4574-93cf-30d31a8cded2"
      },
      "source": [
        "customer_ggt_df"
      ],
      "execution_count": 15,
      "outputs": [
        {
          "output_type": "execute_result",
          "data": {
            "text/html": [
              "<div>\n",
              "<style scoped>\n",
              "    .dataframe tbody tr th:only-of-type {\n",
              "        vertical-align: middle;\n",
              "    }\n",
              "\n",
              "    .dataframe tbody tr th {\n",
              "        vertical-align: top;\n",
              "    }\n",
              "\n",
              "    .dataframe thead th {\n",
              "        text-align: right;\n",
              "    }\n",
              "</style>\n",
              "<table border=\"1\" class=\"dataframe\">\n",
              "  <thead>\n",
              "    <tr style=\"text-align: right;\">\n",
              "      <th></th>\n",
              "      <th>Customer</th>\n",
              "      <th>Customer_cn_ggt</th>\n",
              "      <th>Is_Translated</th>\n",
              "    </tr>\n",
              "  </thead>\n",
              "  <tbody>\n",
              "    <tr>\n",
              "      <th>2331</th>\n",
              "      <td>中山富华热水瓶厂有限公司</td>\n",
              "      <td>中山富华热水瓶厂有限公司</td>\n",
              "      <td>No</td>\n",
              "    </tr>\n",
              "    <tr>\n",
              "      <th>2332</th>\n",
              "      <td>中山富拉司特工业有限公司</td>\n",
              "      <td>中山富拉司特工业有限公司</td>\n",
              "      <td>No</td>\n",
              "    </tr>\n",
              "    <tr>\n",
              "      <th>2333</th>\n",
              "      <td>中山岩谷有限公司</td>\n",
              "      <td>中山岩谷有限公司</td>\n",
              "      <td>No</td>\n",
              "    </tr>\n",
              "    <tr>\n",
              "      <th>2334</th>\n",
              "      <td>中山崇高玩具制品厂有限公司</td>\n",
              "      <td>中山崇高玩具制品厂有限公司</td>\n",
              "      <td>No</td>\n",
              "    </tr>\n",
              "    <tr>\n",
              "      <th>2335</th>\n",
              "      <td>中山崎宇塑料包装</td>\n",
              "      <td>中山崎宇塑料包装</td>\n",
              "      <td>No</td>\n",
              "    </tr>\n",
              "    <tr>\n",
              "      <th>...</th>\n",
              "      <td>...</td>\n",
              "      <td>...</td>\n",
              "      <td>...</td>\n",
              "    </tr>\n",
              "    <tr>\n",
              "      <th>12266</th>\n",
              "      <td>龙海市龙峰塑料包装</td>\n",
              "      <td>龙海市龙峰塑料包装</td>\n",
              "      <td>No</td>\n",
              "    </tr>\n",
              "    <tr>\n",
              "      <th>12267</th>\n",
              "      <td>龙海市龙峰塑料包装有限公司</td>\n",
              "      <td>龙海市龙峰塑料包装有限公司</td>\n",
              "      <td>No</td>\n",
              "    </tr>\n",
              "    <tr>\n",
              "      <th>12268</th>\n",
              "      <td>龙门天美花艺有限公司</td>\n",
              "      <td>龙门天美花艺有限公司</td>\n",
              "      <td>No</td>\n",
              "    </tr>\n",
              "    <tr>\n",
              "      <th>12269</th>\n",
              "      <td>龙霸顺兴(江门)塑料有限公司</td>\n",
              "      <td>龙霸顺兴(江门)塑料有限公司</td>\n",
              "      <td>No</td>\n",
              "    </tr>\n",
              "    <tr>\n",
              "      <th>12270</th>\n",
              "      <td>龙霸顺兴（江门）塑料有限公司</td>\n",
              "      <td>龙霸顺兴（江门）塑料有限公司</td>\n",
              "      <td>No</td>\n",
              "    </tr>\n",
              "  </tbody>\n",
              "</table>\n",
              "<p>9940 rows × 3 columns</p>\n",
              "</div>"
            ],
            "text/plain": [
              "             Customer Customer_cn_ggt Is_Translated\n",
              "2331     中山富华热水瓶厂有限公司    中山富华热水瓶厂有限公司            No\n",
              "2332     中山富拉司特工业有限公司    中山富拉司特工业有限公司            No\n",
              "2333         中山岩谷有限公司        中山岩谷有限公司            No\n",
              "2334    中山崇高玩具制品厂有限公司   中山崇高玩具制品厂有限公司            No\n",
              "2335         中山崎宇塑料包装        中山崎宇塑料包装            No\n",
              "...               ...             ...           ...\n",
              "12266       龙海市龙峰塑料包装       龙海市龙峰塑料包装            No\n",
              "12267   龙海市龙峰塑料包装有限公司   龙海市龙峰塑料包装有限公司            No\n",
              "12268      龙门天美花艺有限公司      龙门天美花艺有限公司            No\n",
              "12269  龙霸顺兴(江门)塑料有限公司  龙霸顺兴(江门)塑料有限公司            No\n",
              "12270  龙霸顺兴（江门）塑料有限公司  龙霸顺兴（江门）塑料有限公司            No\n",
              "\n",
              "[9940 rows x 3 columns]"
            ]
          },
          "metadata": {
            "tags": []
          },
          "execution_count": 15
        }
      ]
    },
    {
      "cell_type": "code",
      "metadata": {
        "id": "mVtwxntns0-7",
        "colab": {
          "base_uri": "https://localhost:8080/"
        },
        "outputId": "7c0ea519-c435-4f45-9075-16dd45fa4718"
      },
      "source": [
        "len(customer_translated_df[customer_translated_df['Is_Translated']=='No'])"
      ],
      "execution_count": 16,
      "outputs": [
        {
          "output_type": "execute_result",
          "data": {
            "text/plain": [
              "940"
            ]
          },
          "metadata": {
            "tags": []
          },
          "execution_count": 16
        }
      ]
    },
    {
      "cell_type": "code",
      "metadata": {
        "colab": {
          "base_uri": "https://localhost:8080/"
        },
        "id": "3RspduEjAkjh",
        "outputId": "5871c119-062f-4522-b024-66534b02a7c8"
      },
      "source": [
        "len(customer_translated_df[customer_translated_df['Is_Translated']=='Yes'])"
      ],
      "execution_count": 17,
      "outputs": [
        {
          "output_type": "execute_result",
          "data": {
            "text/plain": [
              "1391"
            ]
          },
          "metadata": {
            "tags": []
          },
          "execution_count": 17
        }
      ]
    },
    {
      "cell_type": "code",
      "metadata": {
        "colab": {
          "base_uri": "https://localhost:8080/"
        },
        "id": "kBVr5E-9A9iM",
        "outputId": "519218b8-6b9e-4ac4-9154-2a47e330995f"
      },
      "source": [
        "len(customer_ggt_df[customer_ggt_df['Is_Translated']=='No'])"
      ],
      "execution_count": null,
      "outputs": [
        {
          "output_type": "execute_result",
          "data": {
            "text/plain": [
              "8950"
            ]
          },
          "metadata": {
            "tags": []
          },
          "execution_count": 28
        }
      ]
    },
    {
      "cell_type": "code",
      "metadata": {
        "colab": {
          "base_uri": "https://localhost:8080/"
        },
        "id": "1Ub730guBBe7",
        "outputId": "5e0d5625-2a32-49f9-e9ee-350d2c82427d"
      },
      "source": [
        "len(customer_ggt_df[customer_ggt_df['Is_Translated']=='Yes'])"
      ],
      "execution_count": null,
      "outputs": [
        {
          "output_type": "execute_result",
          "data": {
            "text/plain": [
              "0"
            ]
          },
          "metadata": {
            "tags": []
          },
          "execution_count": 29
        }
      ]
    },
    {
      "cell_type": "code",
      "metadata": {
        "colab": {
          "base_uri": "https://localhost:8080/",
          "height": 419
        },
        "id": "9dqN8TZpBEVW",
        "outputId": "df130c4e-eff1-4398-8ec2-f6ffaf2b9fd1"
      },
      "source": [
        "customer_translated_df = customer_translated_df.append(customer_ggt_df)\r\n",
        "customer_translated_df"
      ],
      "execution_count": null,
      "outputs": [
        {
          "output_type": "execute_result",
          "data": {
            "text/html": [
              "<div>\n",
              "<style scoped>\n",
              "    .dataframe tbody tr th:only-of-type {\n",
              "        vertical-align: middle;\n",
              "    }\n",
              "\n",
              "    .dataframe tbody tr th {\n",
              "        vertical-align: top;\n",
              "    }\n",
              "\n",
              "    .dataframe thead th {\n",
              "        text-align: right;\n",
              "    }\n",
              "</style>\n",
              "<table border=\"1\" class=\"dataframe\">\n",
              "  <thead>\n",
              "    <tr style=\"text-align: right;\">\n",
              "      <th></th>\n",
              "      <th>Customer</th>\n",
              "      <th>Customer_cn_ggt</th>\n",
              "      <th>Is_Translated</th>\n",
              "    </tr>\n",
              "  </thead>\n",
              "  <tbody>\n",
              "    <tr>\n",
              "      <th>0</th>\n",
              "      <td>3M材料技术（广州）有限公司</td>\n",
              "      <td>3M Material Technology (Guangzhou) Co., Ltd.</td>\n",
              "      <td>Yes</td>\n",
              "    </tr>\n",
              "    <tr>\n",
              "      <th>1</th>\n",
              "      <td>GGP园林产品（广州）有限公司</td>\n",
              "      <td>GGP Garden Products (Guangzhou) Co., Ltd.</td>\n",
              "      <td>Yes</td>\n",
              "    </tr>\n",
              "    <tr>\n",
              "      <th>2</th>\n",
              "      <td>LG化学（天津）工程塑料有限公司</td>\n",
              "      <td>LG Chemical (Tianjin) Engineering Plastics Co....</td>\n",
              "      <td>Yes</td>\n",
              "    </tr>\n",
              "    <tr>\n",
              "      <th>3</th>\n",
              "      <td>PPG涂料(天津)有限公司</td>\n",
              "      <td>PPG Paint (Tianjin) Co., Ltd.</td>\n",
              "      <td>Yes</td>\n",
              "    </tr>\n",
              "    <tr>\n",
              "      <th>4</th>\n",
              "      <td>一关通（广州）国际供应链有限公司</td>\n",
              "      <td>Yiguantong (Guangzhou) International Supply Ch...</td>\n",
              "      <td>Yes</td>\n",
              "    </tr>\n",
              "    <tr>\n",
              "      <th>...</th>\n",
              "      <td>...</td>\n",
              "      <td>...</td>\n",
              "      <td>...</td>\n",
              "    </tr>\n",
              "    <tr>\n",
              "      <th>12266</th>\n",
              "      <td>龙海市龙峰塑料包装</td>\n",
              "      <td>龙海市龙峰塑料包装</td>\n",
              "      <td>No</td>\n",
              "    </tr>\n",
              "    <tr>\n",
              "      <th>12267</th>\n",
              "      <td>龙海市龙峰塑料包装有限公司</td>\n",
              "      <td>龙海市龙峰塑料包装有限公司</td>\n",
              "      <td>No</td>\n",
              "    </tr>\n",
              "    <tr>\n",
              "      <th>12268</th>\n",
              "      <td>龙门天美花艺有限公司</td>\n",
              "      <td>龙门天美花艺有限公司</td>\n",
              "      <td>No</td>\n",
              "    </tr>\n",
              "    <tr>\n",
              "      <th>12269</th>\n",
              "      <td>龙霸顺兴(江门)塑料有限公司</td>\n",
              "      <td>龙霸顺兴(江门)塑料有限公司</td>\n",
              "      <td>No</td>\n",
              "    </tr>\n",
              "    <tr>\n",
              "      <th>12270</th>\n",
              "      <td>龙霸顺兴（江门）塑料有限公司</td>\n",
              "      <td>龙霸顺兴（江门）塑料有限公司</td>\n",
              "      <td>No</td>\n",
              "    </tr>\n",
              "  </tbody>\n",
              "</table>\n",
              "<p>12271 rows × 3 columns</p>\n",
              "</div>"
            ],
            "text/plain": [
              "               Customer  ... Is_Translated\n",
              "0        3M材料技术（广州）有限公司  ...           Yes\n",
              "1       GGP园林产品（广州）有限公司  ...           Yes\n",
              "2      LG化学（天津）工程塑料有限公司  ...           Yes\n",
              "3         PPG涂料(天津)有限公司  ...           Yes\n",
              "4      一关通（广州）国际供应链有限公司  ...           Yes\n",
              "...                 ...  ...           ...\n",
              "12266         龙海市龙峰塑料包装  ...            No\n",
              "12267     龙海市龙峰塑料包装有限公司  ...            No\n",
              "12268        龙门天美花艺有限公司  ...            No\n",
              "12269    龙霸顺兴(江门)塑料有限公司  ...            No\n",
              "12270    龙霸顺兴（江门）塑料有限公司  ...            No\n",
              "\n",
              "[12271 rows x 3 columns]"
            ]
          },
          "metadata": {
            "tags": []
          },
          "execution_count": 23
        }
      ]
    },
    {
      "cell_type": "code",
      "metadata": {
        "colab": {
          "base_uri": "https://localhost:8080/",
          "height": 17
        },
        "id": "TqJKdu-vozKU",
        "outputId": "a8c8e2eb-bf90-4056-bf05-b4abd043288b"
      },
      "source": [
        "customer_translated_df.to_csv('customer_translated.csv', encoding='utf_8_sig', index=False)\r\n",
        "files.download('customer_translated.csv')"
      ],
      "execution_count": null,
      "outputs": [
        {
          "output_type": "display_data",
          "data": {
            "application/javascript": [
              "\n",
              "    async function download(id, filename, size) {\n",
              "      if (!google.colab.kernel.accessAllowed) {\n",
              "        return;\n",
              "      }\n",
              "      const div = document.createElement('div');\n",
              "      const label = document.createElement('label');\n",
              "      label.textContent = `Downloading \"${filename}\": `;\n",
              "      div.appendChild(label);\n",
              "      const progress = document.createElement('progress');\n",
              "      progress.max = size;\n",
              "      div.appendChild(progress);\n",
              "      document.body.appendChild(div);\n",
              "\n",
              "      const buffers = [];\n",
              "      let downloaded = 0;\n",
              "\n",
              "      const channel = await google.colab.kernel.comms.open(id);\n",
              "      // Send a message to notify the kernel that we're ready.\n",
              "      channel.send({})\n",
              "\n",
              "      for await (const message of channel.messages) {\n",
              "        // Send a message to notify the kernel that we're ready.\n",
              "        channel.send({})\n",
              "        if (message.buffers) {\n",
              "          for (const buffer of message.buffers) {\n",
              "            buffers.push(buffer);\n",
              "            downloaded += buffer.byteLength;\n",
              "            progress.value = downloaded;\n",
              "          }\n",
              "        }\n",
              "      }\n",
              "      const blob = new Blob(buffers, {type: 'application/binary'});\n",
              "      const a = document.createElement('a');\n",
              "      a.href = window.URL.createObjectURL(blob);\n",
              "      a.download = filename;\n",
              "      div.appendChild(a);\n",
              "      a.click();\n",
              "      div.remove();\n",
              "    }\n",
              "  "
            ],
            "text/plain": [
              "<IPython.core.display.Javascript object>"
            ]
          },
          "metadata": {
            "tags": []
          }
        },
        {
          "output_type": "display_data",
          "data": {
            "application/javascript": [
              "download(\"download_8f9788c7-0d86-4782-9784-51b4b8f31c3c\", \"customer_translated_df.csv\", 916940)"
            ],
            "text/plain": [
              "<IPython.core.display.Javascript object>"
            ]
          },
          "metadata": {
            "tags": []
          }
        }
      ]
    },
    {
      "cell_type": "code",
      "metadata": {
        "id": "9fRTxl5NPV9O"
      },
      "source": [
        ""
      ],
      "execution_count": null,
      "outputs": []
    },
    {
      "cell_type": "code",
      "metadata": {
        "id": "FM46q1aEozM8"
      },
      "source": [
        ""
      ],
      "execution_count": null,
      "outputs": []
    }
  ]
}