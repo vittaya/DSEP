{
  "nbformat": 4,
  "nbformat_minor": 0,
  "metadata": {
    "colab": {
      "name": "Chinese Translate.ipynb",
      "provenance": [],
      "authorship_tag": "ABX9TyNKlnQUF0r6QeewCOSNb9/y",
      "include_colab_link": true
    },
    "kernelspec": {
      "name": "python3",
      "display_name": "Python 3"
    }
  },
  "cells": [
    {
      "cell_type": "markdown",
      "metadata": {
        "id": "view-in-github",
        "colab_type": "text"
      },
      "source": [
        "<a href=\"https://colab.research.google.com/github/vittaya/DSEP/blob/master/Chinese_Translate.ipynb\" target=\"_parent\"><img src=\"https://colab.research.google.com/assets/colab-badge.svg\" alt=\"Open In Colab\"/></a>"
      ]
    },
    {
      "cell_type": "code",
      "metadata": {
        "id": "2Wb4LO9ioguT"
      },
      "source": [
        "import numpy as np\r\n",
        "import pandas as pd"
      ],
      "execution_count": 1,
      "outputs": []
    },
    {
      "cell_type": "code",
      "metadata": {
        "id": "ijf_LNyNpdOq",
        "colab": {
          "base_uri": "https://localhost:8080/"
        },
        "outputId": "aac87fa7-61ca-4f01-97f9-bc596256dfd1"
      },
      "source": [
        "!pip install googletrans==3.1.0a0"
      ],
      "execution_count": 2,
      "outputs": [
        {
          "output_type": "stream",
          "text": [
            "Collecting googletrans==3.1.0a0\n",
            "  Downloading https://files.pythonhosted.org/packages/19/3d/4e3a1609bf52f2f7b00436cc751eb977e27040665dde2bd57e7152989672/googletrans-3.1.0a0.tar.gz\n",
            "Collecting httpx==0.13.3\n",
            "\u001b[?25l  Downloading https://files.pythonhosted.org/packages/54/b4/698b284c6aed4d7c2b4fe3ba5df1fcf6093612423797e76fbb24890dd22f/httpx-0.13.3-py3-none-any.whl (55kB)\n",
            "\u001b[K     |████████████████████████████████| 61kB 4.9MB/s \n",
            "\u001b[?25hCollecting httpcore==0.9.*\n",
            "\u001b[?25l  Downloading https://files.pythonhosted.org/packages/dd/d5/e4ff9318693ac6101a2095e580908b591838c6f33df8d3ee8dd953ba96a8/httpcore-0.9.1-py3-none-any.whl (42kB)\n",
            "\u001b[K     |████████████████████████████████| 51kB 6.0MB/s \n",
            "\u001b[?25hCollecting hstspreload\n",
            "\u001b[?25l  Downloading https://files.pythonhosted.org/packages/dd/50/606213e12fb49c5eb667df0936223dcaf461f94e215ea60244b2b1e9b039/hstspreload-2020.12.22-py3-none-any.whl (994kB)\n",
            "\u001b[K     |████████████████████████████████| 1.0MB 7.4MB/s \n",
            "\u001b[?25hRequirement already satisfied: idna==2.* in /usr/local/lib/python3.6/dist-packages (from httpx==0.13.3->googletrans==3.1.0a0) (2.10)\n",
            "Requirement already satisfied: certifi in /usr/local/lib/python3.6/dist-packages (from httpx==0.13.3->googletrans==3.1.0a0) (2020.12.5)\n",
            "Requirement already satisfied: chardet==3.* in /usr/local/lib/python3.6/dist-packages (from httpx==0.13.3->googletrans==3.1.0a0) (3.0.4)\n",
            "Collecting sniffio\n",
            "  Downloading https://files.pythonhosted.org/packages/52/b0/7b2e028b63d092804b6794595871f936aafa5e9322dcaaad50ebf67445b3/sniffio-1.2.0-py3-none-any.whl\n",
            "Collecting rfc3986<2,>=1.3\n",
            "  Downloading https://files.pythonhosted.org/packages/78/be/7b8b99fd74ff5684225f50dd0e865393d2265656ef3b4ba9eaaaffe622b8/rfc3986-1.4.0-py2.py3-none-any.whl\n",
            "Collecting h11<0.10,>=0.8\n",
            "\u001b[?25l  Downloading https://files.pythonhosted.org/packages/5a/fd/3dad730b0f95e78aeeb742f96fa7bbecbdd56a58e405d3da440d5bfb90c6/h11-0.9.0-py2.py3-none-any.whl (53kB)\n",
            "\u001b[K     |████████████████████████████████| 61kB 8.5MB/s \n",
            "\u001b[?25hCollecting h2==3.*\n",
            "\u001b[?25l  Downloading https://files.pythonhosted.org/packages/25/de/da019bcc539eeab02f6d45836f23858ac467f584bfec7a526ef200242afe/h2-3.2.0-py2.py3-none-any.whl (65kB)\n",
            "\u001b[K     |████████████████████████████████| 71kB 9.2MB/s \n",
            "\u001b[?25hCollecting contextvars>=2.1; python_version < \"3.7\"\n",
            "  Downloading https://files.pythonhosted.org/packages/83/96/55b82d9f13763be9d672622e1b8106c85acb83edd7cc2fa5bc67cd9877e9/contextvars-2.4.tar.gz\n",
            "Collecting hpack<4,>=3.0\n",
            "  Downloading https://files.pythonhosted.org/packages/8a/cc/e53517f4a1e13f74776ca93271caef378dadec14d71c61c949d759d3db69/hpack-3.0.0-py2.py3-none-any.whl\n",
            "Collecting hyperframe<6,>=5.2.0\n",
            "  Downloading https://files.pythonhosted.org/packages/19/0c/bf88182bcb5dce3094e2f3e4fe20db28a9928cb7bd5b08024030e4b140db/hyperframe-5.2.0-py2.py3-none-any.whl\n",
            "Collecting immutables>=0.9\n",
            "\u001b[?25l  Downloading https://files.pythonhosted.org/packages/99/e0/ea6fd4697120327d26773b5a84853f897a68e33d3f9376b00a8ff96e4f63/immutables-0.14-cp36-cp36m-manylinux1_x86_64.whl (98kB)\n",
            "\u001b[K     |████████████████████████████████| 102kB 10.7MB/s \n",
            "\u001b[?25hBuilding wheels for collected packages: googletrans, contextvars\n",
            "  Building wheel for googletrans (setup.py) ... \u001b[?25l\u001b[?25hdone\n",
            "  Created wheel for googletrans: filename=googletrans-3.1.0a0-cp36-none-any.whl size=16368 sha256=696d0d452850e25d315e4ca392e81eb50520b8a26f323a0525b90206a12b99c5\n",
            "  Stored in directory: /root/.cache/pip/wheels/27/7a/a0/aff3babbb775549ce6813cb8fa7ff3c0848c4dc62c20f8fdac\n",
            "  Building wheel for contextvars (setup.py) ... \u001b[?25l\u001b[?25hdone\n",
            "  Created wheel for contextvars: filename=contextvars-2.4-cp36-none-any.whl size=7667 sha256=47e2a32cbd37bfad64b3490d731f1ca2d0e725ab35aa65ad557b08f92c4cd45a\n",
            "  Stored in directory: /root/.cache/pip/wheels/a5/7d/68/1ebae2668bda2228686e3c1cf16f2c2384cea6e9334ad5f6de\n",
            "Successfully built googletrans contextvars\n",
            "Installing collected packages: h11, hpack, hyperframe, h2, immutables, contextvars, sniffio, httpcore, hstspreload, rfc3986, httpx, googletrans\n",
            "Successfully installed contextvars-2.4 googletrans-3.1.0a0 h11-0.9.0 h2-3.2.0 hpack-3.0.0 hstspreload-2020.12.22 httpcore-0.9.1 httpx-0.13.3 hyperframe-5.2.0 immutables-0.14 rfc3986-1.4.0 sniffio-1.2.0\n"
          ],
          "name": "stdout"
        }
      ]
    },
    {
      "cell_type": "code",
      "metadata": {
        "id": "SBzPp-MKvp1s"
      },
      "source": [
        "from googletrans import Translator\r\n",
        "translator = Translator()"
      ],
      "execution_count": 3,
      "outputs": []
    },
    {
      "cell_type": "code",
      "metadata": {
        "id": "SGZDFLRJoyX8"
      },
      "source": [
        "from google.colab import files"
      ],
      "execution_count": 4,
      "outputs": []
    },
    {
      "cell_type": "code",
      "metadata": {
        "colab": {
          "resources": {
            "http://localhost:8080/nbextensions/google.colab/files.js": {
              "data": "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",
              "ok": true,
              "headers": [
                [
                  "content-type",
                  "application/javascript"
                ]
              ],
              "status": 200,
              "status_text": "OK"
            }
          },
          "base_uri": "https://localhost:8080/",
          "height": 72
        },
        "id": "9XSkRCoHoy5F",
        "outputId": "d528bc7f-2889-4eee-9f93-f2947c247a2e"
      },
      "source": [
        "uploaded = files.upload()"
      ],
      "execution_count": 5,
      "outputs": [
        {
          "output_type": "display_data",
          "data": {
            "text/html": [
              "\n",
              "     <input type=\"file\" id=\"files-8f3423f7-0641-4454-a189-691dd71645d2\" name=\"files[]\" multiple disabled\n",
              "        style=\"border:none\" />\n",
              "     <output id=\"result-8f3423f7-0641-4454-a189-691dd71645d2\">\n",
              "      Upload widget is only available when the cell has been executed in the\n",
              "      current browser session. Please rerun this cell to enable.\n",
              "      </output>\n",
              "      <script src=\"/nbextensions/google.colab/files.js\"></script> "
            ],
            "text/plain": [
              "<IPython.core.display.HTML object>"
            ]
          },
          "metadata": {
            "tags": []
          }
        },
        {
          "output_type": "stream",
          "text": [
            "Saving customer_translated.csv to customer_translated.csv\n"
          ],
          "name": "stdout"
        }
      ]
    },
    {
      "cell_type": "code",
      "metadata": {
        "id": "gsO0N7zgq-vd"
      },
      "source": [
        "#uploaded = files.upload()"
      ],
      "execution_count": 6,
      "outputs": []
    },
    {
      "cell_type": "code",
      "metadata": {
        "id": "VzKIeCiHEtYn"
      },
      "source": [
        "import time"
      ],
      "execution_count": 18,
      "outputs": []
    },
    {
      "cell_type": "code",
      "metadata": {
        "id": "hxHW56Feoy8G"
      },
      "source": [
        "#customer_df = pd.read_excel('Chinese Columns.xlsx', 'Customer', dtype={'Customer':str})\r\n",
        "#customer_df"
      ],
      "execution_count": 7,
      "outputs": []
    },
    {
      "cell_type": "code",
      "metadata": {
        "id": "a9p326jIrCpQ",
        "colab": {
          "base_uri": "https://localhost:8080/",
          "height": 419
        },
        "outputId": "c39be64b-3309-46e2-d283-4f182e928d5d"
      },
      "source": [
        "customer_ggt_df = pd.read_csv('customer_translated.csv', encoding='utf_8_sig', dtype={\r\n",
        "'Customer':str,\r\n",
        "'Customer_cn_ggt':str,\r\n",
        "'Is_Translated':str,\r\n",
        "})\r\n",
        "customer_ggt_df"
      ],
      "execution_count": 19,
      "outputs": [
        {
          "output_type": "execute_result",
          "data": {
            "text/html": [
              "<div>\n",
              "<style scoped>\n",
              "    .dataframe tbody tr th:only-of-type {\n",
              "        vertical-align: middle;\n",
              "    }\n",
              "\n",
              "    .dataframe tbody tr th {\n",
              "        vertical-align: top;\n",
              "    }\n",
              "\n",
              "    .dataframe thead th {\n",
              "        text-align: right;\n",
              "    }\n",
              "</style>\n",
              "<table border=\"1\" class=\"dataframe\">\n",
              "  <thead>\n",
              "    <tr style=\"text-align: right;\">\n",
              "      <th></th>\n",
              "      <th>Customer</th>\n",
              "      <th>Customer_cn_ggt</th>\n",
              "      <th>Is_Translated</th>\n",
              "    </tr>\n",
              "  </thead>\n",
              "  <tbody>\n",
              "    <tr>\n",
              "      <th>0</th>\n",
              "      <td>3M材料技术（广州）有限公司</td>\n",
              "      <td>3M Material Technology (Guangzhou) Co., Ltd.</td>\n",
              "      <td>Yes</td>\n",
              "    </tr>\n",
              "    <tr>\n",
              "      <th>1</th>\n",
              "      <td>GGP园林产品（广州）有限公司</td>\n",
              "      <td>GGP Garden Products (Guangzhou) Co., Ltd.</td>\n",
              "      <td>Yes</td>\n",
              "    </tr>\n",
              "    <tr>\n",
              "      <th>2</th>\n",
              "      <td>LG化学（天津）工程塑料有限公司</td>\n",
              "      <td>LG Chemical (Tianjin) Engineering Plastics Co....</td>\n",
              "      <td>Yes</td>\n",
              "    </tr>\n",
              "    <tr>\n",
              "      <th>3</th>\n",
              "      <td>PPG涂料(天津)有限公司</td>\n",
              "      <td>PPG Paint (Tianjin) Co., Ltd.</td>\n",
              "      <td>Yes</td>\n",
              "    </tr>\n",
              "    <tr>\n",
              "      <th>4</th>\n",
              "      <td>一关通（广州）国际供应链有限公司</td>\n",
              "      <td>Yiguantong (Guangzhou) International Supply Ch...</td>\n",
              "      <td>Yes</td>\n",
              "    </tr>\n",
              "    <tr>\n",
              "      <th>...</th>\n",
              "      <td>...</td>\n",
              "      <td>...</td>\n",
              "      <td>...</td>\n",
              "    </tr>\n",
              "    <tr>\n",
              "      <th>12266</th>\n",
              "      <td>龙海市龙峰塑料包装</td>\n",
              "      <td>龙海市龙峰塑料包装</td>\n",
              "      <td>No</td>\n",
              "    </tr>\n",
              "    <tr>\n",
              "      <th>12267</th>\n",
              "      <td>龙海市龙峰塑料包装有限公司</td>\n",
              "      <td>龙海市龙峰塑料包装有限公司</td>\n",
              "      <td>No</td>\n",
              "    </tr>\n",
              "    <tr>\n",
              "      <th>12268</th>\n",
              "      <td>龙门天美花艺有限公司</td>\n",
              "      <td>龙门天美花艺有限公司</td>\n",
              "      <td>No</td>\n",
              "    </tr>\n",
              "    <tr>\n",
              "      <th>12269</th>\n",
              "      <td>龙霸顺兴(江门)塑料有限公司</td>\n",
              "      <td>龙霸顺兴(江门)塑料有限公司</td>\n",
              "      <td>No</td>\n",
              "    </tr>\n",
              "    <tr>\n",
              "      <th>12270</th>\n",
              "      <td>龙霸顺兴（江门）塑料有限公司</td>\n",
              "      <td>龙霸顺兴（江门）塑料有限公司</td>\n",
              "      <td>No</td>\n",
              "    </tr>\n",
              "  </tbody>\n",
              "</table>\n",
              "<p>12271 rows × 3 columns</p>\n",
              "</div>"
            ],
            "text/plain": [
              "               Customer  ... Is_Translated\n",
              "0        3M材料技术（广州）有限公司  ...           Yes\n",
              "1       GGP园林产品（广州）有限公司  ...           Yes\n",
              "2      LG化学（天津）工程塑料有限公司  ...           Yes\n",
              "3         PPG涂料(天津)有限公司  ...           Yes\n",
              "4      一关通（广州）国际供应链有限公司  ...           Yes\n",
              "...                 ...  ...           ...\n",
              "12266         龙海市龙峰塑料包装  ...            No\n",
              "12267     龙海市龙峰塑料包装有限公司  ...            No\n",
              "12268        龙门天美花艺有限公司  ...            No\n",
              "12269    龙霸顺兴(江门)塑料有限公司  ...            No\n",
              "12270    龙霸顺兴（江门）塑料有限公司  ...            No\n",
              "\n",
              "[12271 rows x 3 columns]"
            ]
          },
          "metadata": {
            "tags": []
          },
          "execution_count": 19
        }
      ]
    },
    {
      "cell_type": "code",
      "metadata": {
        "id": "4_eHDTlNozCE"
      },
      "source": [
        "#customer_df['Customer_cn_ggt'] = customer_df['Customer'].apply(translator.translate, src='zh-cn').apply(getattr, args=('text',))\r\n",
        "#.map(lambda x: translator.translate(x, src='zh-TW', dest='en').text)\r\n",
        "#customer_df"
      ],
      "execution_count": 9,
      "outputs": []
    },
    {
      "cell_type": "code",
      "metadata": {
        "id": "z02OuJaNTv6p"
      },
      "source": [
        "#tmp_df = customer_ggt_df.head(10).copy()\r\n",
        "#tmp_df['Customer_cn_ggt'] = tmp_df['Customer'].apply(translator.translate, src='zh-cn').apply(getattr, args=('text',))\r\n",
        "#tmp_df"
      ],
      "execution_count": 10,
      "outputs": []
    },
    {
      "cell_type": "code",
      "metadata": {
        "id": "P9rXF4zUMNGL"
      },
      "source": [
        "#customer_ggt_df.loc[:,'Is_Translated'] = 'No'\r\n",
        "#customer_ggt_df.loc[customer_ggt_df['Customer']!=customer_ggt_df['Customer_cn_ggt'], 'Is_Translated'] = 'Yes'\r\n",
        "#customer_ggt_df[customer_ggt_df['Is_Translated']=='No']"
      ],
      "execution_count": 11,
      "outputs": []
    },
    {
      "cell_type": "code",
      "metadata": {
        "id": "q1FBWYk7wZc1",
        "colab": {
          "base_uri": "https://localhost:8080/",
          "height": 419
        },
        "outputId": "00299002-1861-4f78-f511-ca1f5e384732"
      },
      "source": [
        "customer_ggt_df[customer_ggt_df['Is_Translated']=='Yes']"
      ],
      "execution_count": 20,
      "outputs": [
        {
          "output_type": "execute_result",
          "data": {
            "text/html": [
              "<div>\n",
              "<style scoped>\n",
              "    .dataframe tbody tr th:only-of-type {\n",
              "        vertical-align: middle;\n",
              "    }\n",
              "\n",
              "    .dataframe tbody tr th {\n",
              "        vertical-align: top;\n",
              "    }\n",
              "\n",
              "    .dataframe thead th {\n",
              "        text-align: right;\n",
              "    }\n",
              "</style>\n",
              "<table border=\"1\" class=\"dataframe\">\n",
              "  <thead>\n",
              "    <tr style=\"text-align: right;\">\n",
              "      <th></th>\n",
              "      <th>Customer</th>\n",
              "      <th>Customer_cn_ggt</th>\n",
              "      <th>Is_Translated</th>\n",
              "    </tr>\n",
              "  </thead>\n",
              "  <tbody>\n",
              "    <tr>\n",
              "      <th>0</th>\n",
              "      <td>3M材料技术（广州）有限公司</td>\n",
              "      <td>3M Material Technology (Guangzhou) Co., Ltd.</td>\n",
              "      <td>Yes</td>\n",
              "    </tr>\n",
              "    <tr>\n",
              "      <th>1</th>\n",
              "      <td>GGP园林产品（广州）有限公司</td>\n",
              "      <td>GGP Garden Products (Guangzhou) Co., Ltd.</td>\n",
              "      <td>Yes</td>\n",
              "    </tr>\n",
              "    <tr>\n",
              "      <th>2</th>\n",
              "      <td>LG化学（天津）工程塑料有限公司</td>\n",
              "      <td>LG Chemical (Tianjin) Engineering Plastics Co....</td>\n",
              "      <td>Yes</td>\n",
              "    </tr>\n",
              "    <tr>\n",
              "      <th>3</th>\n",
              "      <td>PPG涂料(天津)有限公司</td>\n",
              "      <td>PPG Paint (Tianjin) Co., Ltd.</td>\n",
              "      <td>Yes</td>\n",
              "    </tr>\n",
              "    <tr>\n",
              "      <th>4</th>\n",
              "      <td>一关通（广州）国际供应链有限公司</td>\n",
              "      <td>Yiguantong (Guangzhou) International Supply Ch...</td>\n",
              "      <td>Yes</td>\n",
              "    </tr>\n",
              "    <tr>\n",
              "      <th>...</th>\n",
              "      <td>...</td>\n",
              "      <td>...</td>\n",
              "      <td>...</td>\n",
              "    </tr>\n",
              "    <tr>\n",
              "      <th>1316</th>\n",
              "      <td>东莞基立线缆有限公司</td>\n",
              "      <td>Dongguan Jili Cable Co., Ltd.</td>\n",
              "      <td>Yes</td>\n",
              "    </tr>\n",
              "    <tr>\n",
              "      <th>1317</th>\n",
              "      <td>东莞堡盛威塑胶五金制品有限公司</td>\n",
              "      <td>Dongguan Baoshengwei Plastic Hardware Products...</td>\n",
              "      <td>Yes</td>\n",
              "    </tr>\n",
              "    <tr>\n",
              "      <th>1318</th>\n",
              "      <td>东莞塑盟商贸有限公司</td>\n",
              "      <td>Dongguan Plastic Union Trading Company</td>\n",
              "      <td>Yes</td>\n",
              "    </tr>\n",
              "    <tr>\n",
              "      <th>1319</th>\n",
              "      <td>东莞塘厦协信胶袋制品</td>\n",
              "      <td>Dongguan Tangxia Xiexin Plastic Bag Products</td>\n",
              "      <td>Yes</td>\n",
              "    </tr>\n",
              "    <tr>\n",
              "      <th>1320</th>\n",
              "      <td>东莞塘厦协信胶袋制品有限公司</td>\n",
              "      <td>Dongguan Tangxia Xiexin Plastic Bag Products C...</td>\n",
              "      <td>Yes</td>\n",
              "    </tr>\n",
              "  </tbody>\n",
              "</table>\n",
              "<p>1321 rows × 3 columns</p>\n",
              "</div>"
            ],
            "text/plain": [
              "              Customer  ... Is_Translated\n",
              "0       3M材料技术（广州）有限公司  ...           Yes\n",
              "1      GGP园林产品（广州）有限公司  ...           Yes\n",
              "2     LG化学（天津）工程塑料有限公司  ...           Yes\n",
              "3        PPG涂料(天津)有限公司  ...           Yes\n",
              "4     一关通（广州）国际供应链有限公司  ...           Yes\n",
              "...                ...  ...           ...\n",
              "1316        东莞基立线缆有限公司  ...           Yes\n",
              "1317   东莞堡盛威塑胶五金制品有限公司  ...           Yes\n",
              "1318        东莞塑盟商贸有限公司  ...           Yes\n",
              "1319        东莞塘厦协信胶袋制品  ...           Yes\n",
              "1320    东莞塘厦协信胶袋制品有限公司  ...           Yes\n",
              "\n",
              "[1321 rows x 3 columns]"
            ]
          },
          "metadata": {
            "tags": []
          },
          "execution_count": 20
        }
      ]
    },
    {
      "cell_type": "code",
      "metadata": {
        "id": "hm1AWJXdRJPY"
      },
      "source": [
        "#customer_ggt_df.loc[:,'Is_Translated'] = 'No'\r\n",
        "#customer_ggt_df.loc[(customer_ggt_df['Customer']!=customer_ggt_df['Customer_cn_ggt']) & (customer_ggt_df['Customer_cn_ggt'].notnull()), 'Is_Translated'] = 'Yes'"
      ],
      "execution_count": 13,
      "outputs": []
    },
    {
      "cell_type": "code",
      "metadata": {
        "id": "70F7VUWSwmD6"
      },
      "source": [
        "customer_translated_df = pd.DataFrame()"
      ],
      "execution_count": 21,
      "outputs": []
    },
    {
      "cell_type": "code",
      "metadata": {
        "id": "w9gVsrF3xHfv",
        "colab": {
          "base_uri": "https://localhost:8080/",
          "height": 419
        },
        "outputId": "453140bd-44cb-40cd-8053-34fa3a34e34b"
      },
      "source": [
        "tmp_df = customer_ggt_df[customer_ggt_df['Is_Translated']=='Yes'].copy()\r\n",
        "customer_translated_df = customer_translated_df.append(tmp_df)\r\n",
        "customer_translated_df"
      ],
      "execution_count": 22,
      "outputs": [
        {
          "output_type": "execute_result",
          "data": {
            "text/html": [
              "<div>\n",
              "<style scoped>\n",
              "    .dataframe tbody tr th:only-of-type {\n",
              "        vertical-align: middle;\n",
              "    }\n",
              "\n",
              "    .dataframe tbody tr th {\n",
              "        vertical-align: top;\n",
              "    }\n",
              "\n",
              "    .dataframe thead th {\n",
              "        text-align: right;\n",
              "    }\n",
              "</style>\n",
              "<table border=\"1\" class=\"dataframe\">\n",
              "  <thead>\n",
              "    <tr style=\"text-align: right;\">\n",
              "      <th></th>\n",
              "      <th>Customer</th>\n",
              "      <th>Customer_cn_ggt</th>\n",
              "      <th>Is_Translated</th>\n",
              "    </tr>\n",
              "  </thead>\n",
              "  <tbody>\n",
              "    <tr>\n",
              "      <th>0</th>\n",
              "      <td>3M材料技术（广州）有限公司</td>\n",
              "      <td>3M Material Technology (Guangzhou) Co., Ltd.</td>\n",
              "      <td>Yes</td>\n",
              "    </tr>\n",
              "    <tr>\n",
              "      <th>1</th>\n",
              "      <td>GGP园林产品（广州）有限公司</td>\n",
              "      <td>GGP Garden Products (Guangzhou) Co., Ltd.</td>\n",
              "      <td>Yes</td>\n",
              "    </tr>\n",
              "    <tr>\n",
              "      <th>2</th>\n",
              "      <td>LG化学（天津）工程塑料有限公司</td>\n",
              "      <td>LG Chemical (Tianjin) Engineering Plastics Co....</td>\n",
              "      <td>Yes</td>\n",
              "    </tr>\n",
              "    <tr>\n",
              "      <th>3</th>\n",
              "      <td>PPG涂料(天津)有限公司</td>\n",
              "      <td>PPG Paint (Tianjin) Co., Ltd.</td>\n",
              "      <td>Yes</td>\n",
              "    </tr>\n",
              "    <tr>\n",
              "      <th>4</th>\n",
              "      <td>一关通（广州）国际供应链有限公司</td>\n",
              "      <td>Yiguantong (Guangzhou) International Supply Ch...</td>\n",
              "      <td>Yes</td>\n",
              "    </tr>\n",
              "    <tr>\n",
              "      <th>...</th>\n",
              "      <td>...</td>\n",
              "      <td>...</td>\n",
              "      <td>...</td>\n",
              "    </tr>\n",
              "    <tr>\n",
              "      <th>1316</th>\n",
              "      <td>东莞基立线缆有限公司</td>\n",
              "      <td>Dongguan Jili Cable Co., Ltd.</td>\n",
              "      <td>Yes</td>\n",
              "    </tr>\n",
              "    <tr>\n",
              "      <th>1317</th>\n",
              "      <td>东莞堡盛威塑胶五金制品有限公司</td>\n",
              "      <td>Dongguan Baoshengwei Plastic Hardware Products...</td>\n",
              "      <td>Yes</td>\n",
              "    </tr>\n",
              "    <tr>\n",
              "      <th>1318</th>\n",
              "      <td>东莞塑盟商贸有限公司</td>\n",
              "      <td>Dongguan Plastic Union Trading Company</td>\n",
              "      <td>Yes</td>\n",
              "    </tr>\n",
              "    <tr>\n",
              "      <th>1319</th>\n",
              "      <td>东莞塘厦协信胶袋制品</td>\n",
              "      <td>Dongguan Tangxia Xiexin Plastic Bag Products</td>\n",
              "      <td>Yes</td>\n",
              "    </tr>\n",
              "    <tr>\n",
              "      <th>1320</th>\n",
              "      <td>东莞塘厦协信胶袋制品有限公司</td>\n",
              "      <td>Dongguan Tangxia Xiexin Plastic Bag Products C...</td>\n",
              "      <td>Yes</td>\n",
              "    </tr>\n",
              "  </tbody>\n",
              "</table>\n",
              "<p>1321 rows × 3 columns</p>\n",
              "</div>"
            ],
            "text/plain": [
              "              Customer  ... Is_Translated\n",
              "0       3M材料技术（广州）有限公司  ...           Yes\n",
              "1      GGP园林产品（广州）有限公司  ...           Yes\n",
              "2     LG化学（天津）工程塑料有限公司  ...           Yes\n",
              "3        PPG涂料(天津)有限公司  ...           Yes\n",
              "4     一关通（广州）国际供应链有限公司  ...           Yes\n",
              "...                ...  ...           ...\n",
              "1316        东莞基立线缆有限公司  ...           Yes\n",
              "1317   东莞堡盛威塑胶五金制品有限公司  ...           Yes\n",
              "1318        东莞塑盟商贸有限公司  ...           Yes\n",
              "1319        东莞塘厦协信胶袋制品  ...           Yes\n",
              "1320    东莞塘厦协信胶袋制品有限公司  ...           Yes\n",
              "\n",
              "[1321 rows x 3 columns]"
            ]
          },
          "metadata": {
            "tags": []
          },
          "execution_count": 22
        }
      ]
    },
    {
      "cell_type": "code",
      "metadata": {
        "id": "EUpLw5zBxrai",
        "colab": {
          "base_uri": "https://localhost:8080/",
          "height": 419
        },
        "outputId": "f2411b6f-adac-4c2c-fd70-772ccaa8e91a"
      },
      "source": [
        "customer_ggt_df.drop(customer_ggt_df[customer_ggt_df['Is_Translated']=='Yes'].index, inplace=True)\r\n",
        "customer_ggt_df"
      ],
      "execution_count": 23,
      "outputs": [
        {
          "output_type": "execute_result",
          "data": {
            "text/html": [
              "<div>\n",
              "<style scoped>\n",
              "    .dataframe tbody tr th:only-of-type {\n",
              "        vertical-align: middle;\n",
              "    }\n",
              "\n",
              "    .dataframe tbody tr th {\n",
              "        vertical-align: top;\n",
              "    }\n",
              "\n",
              "    .dataframe thead th {\n",
              "        text-align: right;\n",
              "    }\n",
              "</style>\n",
              "<table border=\"1\" class=\"dataframe\">\n",
              "  <thead>\n",
              "    <tr style=\"text-align: right;\">\n",
              "      <th></th>\n",
              "      <th>Customer</th>\n",
              "      <th>Customer_cn_ggt</th>\n",
              "      <th>Is_Translated</th>\n",
              "    </tr>\n",
              "  </thead>\n",
              "  <tbody>\n",
              "    <tr>\n",
              "      <th>1321</th>\n",
              "      <td>东莞塘厦南太电线电缆厂</td>\n",
              "      <td>东莞塘厦南太电线电缆厂</td>\n",
              "      <td>No</td>\n",
              "    </tr>\n",
              "    <tr>\n",
              "      <th>1322</th>\n",
              "      <td>东莞塘厦好活塑胶五金厂</td>\n",
              "      <td>东莞塘厦好活塑胶五金厂</td>\n",
              "      <td>No</td>\n",
              "    </tr>\n",
              "    <tr>\n",
              "      <th>1323</th>\n",
              "      <td>东莞塘厦彩兴塑胶五金厂</td>\n",
              "      <td>东莞塘厦彩兴塑胶五金厂</td>\n",
              "      <td>No</td>\n",
              "    </tr>\n",
              "    <tr>\n",
              "      <th>1324</th>\n",
              "      <td>东莞塘厦永泰胶袋厂</td>\n",
              "      <td>东莞塘厦永泰胶袋厂</td>\n",
              "      <td>No</td>\n",
              "    </tr>\n",
              "    <tr>\n",
              "      <th>1325</th>\n",
              "      <td>东莞大伟成记玩具有限公司</td>\n",
              "      <td>东莞大伟成记玩具有限公司</td>\n",
              "      <td>No</td>\n",
              "    </tr>\n",
              "    <tr>\n",
              "      <th>...</th>\n",
              "      <td>...</td>\n",
              "      <td>...</td>\n",
              "      <td>...</td>\n",
              "    </tr>\n",
              "    <tr>\n",
              "      <th>12266</th>\n",
              "      <td>龙海市龙峰塑料包装</td>\n",
              "      <td>龙海市龙峰塑料包装</td>\n",
              "      <td>No</td>\n",
              "    </tr>\n",
              "    <tr>\n",
              "      <th>12267</th>\n",
              "      <td>龙海市龙峰塑料包装有限公司</td>\n",
              "      <td>龙海市龙峰塑料包装有限公司</td>\n",
              "      <td>No</td>\n",
              "    </tr>\n",
              "    <tr>\n",
              "      <th>12268</th>\n",
              "      <td>龙门天美花艺有限公司</td>\n",
              "      <td>龙门天美花艺有限公司</td>\n",
              "      <td>No</td>\n",
              "    </tr>\n",
              "    <tr>\n",
              "      <th>12269</th>\n",
              "      <td>龙霸顺兴(江门)塑料有限公司</td>\n",
              "      <td>龙霸顺兴(江门)塑料有限公司</td>\n",
              "      <td>No</td>\n",
              "    </tr>\n",
              "    <tr>\n",
              "      <th>12270</th>\n",
              "      <td>龙霸顺兴（江门）塑料有限公司</td>\n",
              "      <td>龙霸顺兴（江门）塑料有限公司</td>\n",
              "      <td>No</td>\n",
              "    </tr>\n",
              "  </tbody>\n",
              "</table>\n",
              "<p>10950 rows × 3 columns</p>\n",
              "</div>"
            ],
            "text/plain": [
              "             Customer Customer_cn_ggt Is_Translated\n",
              "1321      东莞塘厦南太电线电缆厂     东莞塘厦南太电线电缆厂            No\n",
              "1322      东莞塘厦好活塑胶五金厂     东莞塘厦好活塑胶五金厂            No\n",
              "1323      东莞塘厦彩兴塑胶五金厂     东莞塘厦彩兴塑胶五金厂            No\n",
              "1324        东莞塘厦永泰胶袋厂       东莞塘厦永泰胶袋厂            No\n",
              "1325     东莞大伟成记玩具有限公司    东莞大伟成记玩具有限公司            No\n",
              "...               ...             ...           ...\n",
              "12266       龙海市龙峰塑料包装       龙海市龙峰塑料包装            No\n",
              "12267   龙海市龙峰塑料包装有限公司   龙海市龙峰塑料包装有限公司            No\n",
              "12268      龙门天美花艺有限公司      龙门天美花艺有限公司            No\n",
              "12269  龙霸顺兴(江门)塑料有限公司  龙霸顺兴(江门)塑料有限公司            No\n",
              "12270  龙霸顺兴（江门）塑料有限公司  龙霸顺兴（江门）塑料有限公司            No\n",
              "\n",
              "[10950 rows x 3 columns]"
            ]
          },
          "metadata": {
            "tags": []
          },
          "execution_count": 23
        }
      ]
    },
    {
      "cell_type": "code",
      "metadata": {
        "colab": {
          "base_uri": "https://localhost:8080/",
          "height": 1000
        },
        "id": "laPYWk3QMOfU",
        "outputId": "a20674bd-03cd-4e18-dda3-68e5c1fa5a0b"
      },
      "source": [
        "i=0\r\n",
        "\r\n",
        "while (len(customer_ggt_df[customer_ggt_df['Is_Translated']=='No']) > 0) & (i<200):\r\n",
        "  #print('Non-translate records = '+str(len(customer_ggt_df[customer_ggt_df['Is_Translated']=='No'])))\r\n",
        "\r\n",
        "  tmp_df = customer_ggt_df.head(10).copy()\r\n",
        "  tmp_df['Customer_cn_ggt'] = tmp_df['Customer'].apply(translator.translate, src='zh-cn').apply(getattr, args=('text',))\r\n",
        "  tmp_df.loc[(tmp_df['Customer']!=tmp_df['Customer_cn_ggt']) & (tmp_df['Customer_cn_ggt'].notnull()), 'Is_Translated'] = 'Yes'\r\n",
        "  customer_translated_df = customer_translated_df.append(tmp_df)\r\n",
        "\r\n",
        "  customer_ggt_df.drop(customer_ggt_df.head(10).index, inplace=True)\r\n",
        "  \r\n",
        "  i += 1\r\n",
        "  print('i = '+str(i))\r\n",
        "  time.sleep(10)\r\n",
        "\r\n",
        "customer_translated_df"
      ],
      "execution_count": 24,
      "outputs": [
        {
          "output_type": "stream",
          "text": [
            "i = 1\n",
            "i = 2\n",
            "i = 3\n",
            "i = 4\n",
            "i = 5\n",
            "i = 6\n",
            "i = 7\n",
            "i = 8\n",
            "i = 9\n",
            "i = 10\n",
            "i = 11\n",
            "i = 12\n",
            "i = 13\n",
            "i = 14\n",
            "i = 15\n",
            "i = 16\n",
            "i = 17\n",
            "i = 18\n",
            "i = 19\n",
            "i = 20\n",
            "i = 21\n",
            "i = 22\n",
            "i = 23\n",
            "i = 24\n",
            "i = 25\n",
            "i = 26\n",
            "i = 27\n",
            "i = 28\n",
            "i = 29\n",
            "i = 30\n",
            "i = 31\n",
            "i = 32\n",
            "i = 33\n",
            "i = 34\n",
            "i = 35\n",
            "i = 36\n",
            "i = 37\n",
            "i = 38\n",
            "i = 39\n",
            "i = 40\n",
            "i = 41\n",
            "i = 42\n",
            "i = 43\n",
            "i = 44\n",
            "i = 45\n",
            "i = 46\n",
            "i = 47\n",
            "i = 48\n",
            "i = 49\n",
            "i = 50\n",
            "i = 51\n",
            "i = 52\n",
            "i = 53\n",
            "i = 54\n",
            "i = 55\n",
            "i = 56\n",
            "i = 57\n",
            "i = 58\n",
            "i = 59\n",
            "i = 60\n",
            "i = 61\n",
            "i = 62\n",
            "i = 63\n",
            "i = 64\n",
            "i = 65\n",
            "i = 66\n",
            "i = 67\n",
            "i = 68\n",
            "i = 69\n",
            "i = 70\n",
            "i = 71\n",
            "i = 72\n",
            "i = 73\n",
            "i = 74\n",
            "i = 75\n",
            "i = 76\n",
            "i = 77\n",
            "i = 78\n",
            "i = 79\n",
            "i = 80\n",
            "i = 81\n",
            "i = 82\n",
            "i = 83\n",
            "i = 84\n",
            "i = 85\n",
            "i = 86\n",
            "i = 87\n",
            "i = 88\n",
            "i = 89\n",
            "i = 90\n",
            "i = 91\n",
            "i = 92\n",
            "i = 93\n",
            "i = 94\n",
            "i = 95\n",
            "i = 96\n",
            "i = 97\n",
            "i = 98\n",
            "i = 99\n",
            "i = 100\n",
            "i = 101\n",
            "i = 102\n",
            "i = 103\n",
            "i = 104\n",
            "i = 105\n",
            "i = 106\n",
            "i = 107\n",
            "i = 108\n",
            "i = 109\n",
            "i = 110\n",
            "i = 111\n",
            "i = 112\n",
            "i = 113\n",
            "i = 114\n",
            "i = 115\n",
            "i = 116\n",
            "i = 117\n",
            "i = 118\n",
            "i = 119\n",
            "i = 120\n",
            "i = 121\n",
            "i = 122\n",
            "i = 123\n",
            "i = 124\n",
            "i = 125\n",
            "i = 126\n",
            "i = 127\n",
            "i = 128\n",
            "i = 129\n",
            "i = 130\n",
            "i = 131\n",
            "i = 132\n",
            "i = 133\n",
            "i = 134\n",
            "i = 135\n",
            "i = 136\n",
            "i = 137\n",
            "i = 138\n",
            "i = 139\n",
            "i = 140\n",
            "i = 141\n",
            "i = 142\n",
            "i = 143\n",
            "i = 144\n",
            "i = 145\n",
            "i = 146\n",
            "i = 147\n",
            "i = 148\n",
            "i = 149\n",
            "i = 150\n",
            "i = 151\n",
            "i = 152\n",
            "i = 153\n",
            "i = 154\n",
            "i = 155\n",
            "i = 156\n",
            "i = 157\n",
            "i = 158\n",
            "i = 159\n",
            "i = 160\n",
            "i = 161\n",
            "i = 162\n",
            "i = 163\n",
            "i = 164\n",
            "i = 165\n",
            "i = 166\n",
            "i = 167\n",
            "i = 168\n",
            "i = 169\n",
            "i = 170\n",
            "i = 171\n",
            "i = 172\n",
            "i = 173\n",
            "i = 174\n",
            "i = 175\n",
            "i = 176\n",
            "i = 177\n",
            "i = 178\n",
            "i = 179\n",
            "i = 180\n",
            "i = 181\n",
            "i = 182\n",
            "i = 183\n",
            "i = 184\n",
            "i = 185\n",
            "i = 186\n",
            "i = 187\n",
            "i = 188\n",
            "i = 189\n",
            "i = 190\n",
            "i = 191\n",
            "i = 192\n",
            "i = 193\n",
            "i = 194\n",
            "i = 195\n",
            "i = 196\n",
            "i = 197\n",
            "i = 198\n",
            "i = 199\n",
            "i = 200\n"
          ],
          "name": "stdout"
        },
        {
          "output_type": "execute_result",
          "data": {
            "text/html": [
              "<div>\n",
              "<style scoped>\n",
              "    .dataframe tbody tr th:only-of-type {\n",
              "        vertical-align: middle;\n",
              "    }\n",
              "\n",
              "    .dataframe tbody tr th {\n",
              "        vertical-align: top;\n",
              "    }\n",
              "\n",
              "    .dataframe thead th {\n",
              "        text-align: right;\n",
              "    }\n",
              "</style>\n",
              "<table border=\"1\" class=\"dataframe\">\n",
              "  <thead>\n",
              "    <tr style=\"text-align: right;\">\n",
              "      <th></th>\n",
              "      <th>Customer</th>\n",
              "      <th>Customer_cn_ggt</th>\n",
              "      <th>Is_Translated</th>\n",
              "    </tr>\n",
              "  </thead>\n",
              "  <tbody>\n",
              "    <tr>\n",
              "      <th>0</th>\n",
              "      <td>3M材料技术（广州）有限公司</td>\n",
              "      <td>3M Material Technology (Guangzhou) Co., Ltd.</td>\n",
              "      <td>Yes</td>\n",
              "    </tr>\n",
              "    <tr>\n",
              "      <th>1</th>\n",
              "      <td>GGP园林产品（广州）有限公司</td>\n",
              "      <td>GGP Garden Products (Guangzhou) Co., Ltd.</td>\n",
              "      <td>Yes</td>\n",
              "    </tr>\n",
              "    <tr>\n",
              "      <th>2</th>\n",
              "      <td>LG化学（天津）工程塑料有限公司</td>\n",
              "      <td>LG Chemical (Tianjin) Engineering Plastics Co....</td>\n",
              "      <td>Yes</td>\n",
              "    </tr>\n",
              "    <tr>\n",
              "      <th>3</th>\n",
              "      <td>PPG涂料(天津)有限公司</td>\n",
              "      <td>PPG Paint (Tianjin) Co., Ltd.</td>\n",
              "      <td>Yes</td>\n",
              "    </tr>\n",
              "    <tr>\n",
              "      <th>4</th>\n",
              "      <td>一关通（广州）国际供应链有限公司</td>\n",
              "      <td>Yiguantong (Guangzhou) International Supply Ch...</td>\n",
              "      <td>Yes</td>\n",
              "    </tr>\n",
              "    <tr>\n",
              "      <th>...</th>\n",
              "      <td>...</td>\n",
              "      <td>...</td>\n",
              "      <td>...</td>\n",
              "    </tr>\n",
              "    <tr>\n",
              "      <th>3316</th>\n",
              "      <td>出光狮王塑料(上海)有限公司</td>\n",
              "      <td>出光狮王塑料(上海)有限公司</td>\n",
              "      <td>No</td>\n",
              "    </tr>\n",
              "    <tr>\n",
              "      <th>3317</th>\n",
              "      <td>创富源五金塑胶(深圳)</td>\n",
              "      <td>创富源五金塑胶(深圳)</td>\n",
              "      <td>No</td>\n",
              "    </tr>\n",
              "    <tr>\n",
              "      <th>3318</th>\n",
              "      <td>创富源五金塑胶(深圳)有限公司</td>\n",
              "      <td>创富源五金塑胶(深圳)有限公司</td>\n",
              "      <td>No</td>\n",
              "    </tr>\n",
              "    <tr>\n",
              "      <th>3319</th>\n",
              "      <td>创菱(广州)贸易有限公司</td>\n",
              "      <td>创菱(广州)贸易有限公司</td>\n",
              "      <td>No</td>\n",
              "    </tr>\n",
              "    <tr>\n",
              "      <th>3320</th>\n",
              "      <td>创菱（广州）贸易有限公司</td>\n",
              "      <td>创菱（广州）贸易有限公司</td>\n",
              "      <td>No</td>\n",
              "    </tr>\n",
              "  </tbody>\n",
              "</table>\n",
              "<p>3321 rows × 3 columns</p>\n",
              "</div>"
            ],
            "text/plain": [
              "              Customer  ... Is_Translated\n",
              "0       3M材料技术（广州）有限公司  ...           Yes\n",
              "1      GGP园林产品（广州）有限公司  ...           Yes\n",
              "2     LG化学（天津）工程塑料有限公司  ...           Yes\n",
              "3        PPG涂料(天津)有限公司  ...           Yes\n",
              "4     一关通（广州）国际供应链有限公司  ...           Yes\n",
              "...                ...  ...           ...\n",
              "3316    出光狮王塑料(上海)有限公司  ...            No\n",
              "3317       创富源五金塑胶(深圳)  ...            No\n",
              "3318   创富源五金塑胶(深圳)有限公司  ...            No\n",
              "3319      创菱(广州)贸易有限公司  ...            No\n",
              "3320      创菱（广州）贸易有限公司  ...            No\n",
              "\n",
              "[3321 rows x 3 columns]"
            ]
          },
          "metadata": {
            "tags": []
          },
          "execution_count": 24
        }
      ]
    },
    {
      "cell_type": "code",
      "metadata": {
        "colab": {
          "base_uri": "https://localhost:8080/",
          "height": 419
        },
        "id": "XiRoqnBEPWif",
        "outputId": "0c9e573f-6609-4f9c-c1d8-cb5a47c89edf"
      },
      "source": [
        "customer_ggt_df"
      ],
      "execution_count": 25,
      "outputs": [
        {
          "output_type": "execute_result",
          "data": {
            "text/html": [
              "<div>\n",
              "<style scoped>\n",
              "    .dataframe tbody tr th:only-of-type {\n",
              "        vertical-align: middle;\n",
              "    }\n",
              "\n",
              "    .dataframe tbody tr th {\n",
              "        vertical-align: top;\n",
              "    }\n",
              "\n",
              "    .dataframe thead th {\n",
              "        text-align: right;\n",
              "    }\n",
              "</style>\n",
              "<table border=\"1\" class=\"dataframe\">\n",
              "  <thead>\n",
              "    <tr style=\"text-align: right;\">\n",
              "      <th></th>\n",
              "      <th>Customer</th>\n",
              "      <th>Customer_cn_ggt</th>\n",
              "      <th>Is_Translated</th>\n",
              "    </tr>\n",
              "  </thead>\n",
              "  <tbody>\n",
              "    <tr>\n",
              "      <th>3321</th>\n",
              "      <td>创领供应链管理（天津）有限公司</td>\n",
              "      <td>创领供应链管理（天津）有限公司</td>\n",
              "      <td>No</td>\n",
              "    </tr>\n",
              "    <tr>\n",
              "      <th>3322</th>\n",
              "      <td>利乐包装(佛山)</td>\n",
              "      <td>利乐包装(佛山)</td>\n",
              "      <td>No</td>\n",
              "    </tr>\n",
              "    <tr>\n",
              "      <th>3323</th>\n",
              "      <td>利乐包装（佛山）</td>\n",
              "      <td>利乐包装（佛山）</td>\n",
              "      <td>No</td>\n",
              "    </tr>\n",
              "    <tr>\n",
              "      <th>3324</th>\n",
              "      <td>利乐包装（佛山）有限公司</td>\n",
              "      <td>利乐包装（佛山）有限公司</td>\n",
              "      <td>No</td>\n",
              "    </tr>\n",
              "    <tr>\n",
              "      <th>3325</th>\n",
              "      <td>利乐包装(北京)</td>\n",
              "      <td>利乐包装(北京)</td>\n",
              "      <td>No</td>\n",
              "    </tr>\n",
              "    <tr>\n",
              "      <th>...</th>\n",
              "      <td>...</td>\n",
              "      <td>...</td>\n",
              "      <td>...</td>\n",
              "    </tr>\n",
              "    <tr>\n",
              "      <th>12266</th>\n",
              "      <td>龙海市龙峰塑料包装</td>\n",
              "      <td>龙海市龙峰塑料包装</td>\n",
              "      <td>No</td>\n",
              "    </tr>\n",
              "    <tr>\n",
              "      <th>12267</th>\n",
              "      <td>龙海市龙峰塑料包装有限公司</td>\n",
              "      <td>龙海市龙峰塑料包装有限公司</td>\n",
              "      <td>No</td>\n",
              "    </tr>\n",
              "    <tr>\n",
              "      <th>12268</th>\n",
              "      <td>龙门天美花艺有限公司</td>\n",
              "      <td>龙门天美花艺有限公司</td>\n",
              "      <td>No</td>\n",
              "    </tr>\n",
              "    <tr>\n",
              "      <th>12269</th>\n",
              "      <td>龙霸顺兴(江门)塑料有限公司</td>\n",
              "      <td>龙霸顺兴(江门)塑料有限公司</td>\n",
              "      <td>No</td>\n",
              "    </tr>\n",
              "    <tr>\n",
              "      <th>12270</th>\n",
              "      <td>龙霸顺兴（江门）塑料有限公司</td>\n",
              "      <td>龙霸顺兴（江门）塑料有限公司</td>\n",
              "      <td>No</td>\n",
              "    </tr>\n",
              "  </tbody>\n",
              "</table>\n",
              "<p>8950 rows × 3 columns</p>\n",
              "</div>"
            ],
            "text/plain": [
              "              Customer  Customer_cn_ggt Is_Translated\n",
              "3321   创领供应链管理（天津）有限公司  创领供应链管理（天津）有限公司            No\n",
              "3322          利乐包装(佛山)         利乐包装(佛山)            No\n",
              "3323          利乐包装（佛山）         利乐包装（佛山）            No\n",
              "3324      利乐包装（佛山）有限公司     利乐包装（佛山）有限公司            No\n",
              "3325          利乐包装(北京)         利乐包装(北京)            No\n",
              "...                ...              ...           ...\n",
              "12266        龙海市龙峰塑料包装        龙海市龙峰塑料包装            No\n",
              "12267    龙海市龙峰塑料包装有限公司    龙海市龙峰塑料包装有限公司            No\n",
              "12268       龙门天美花艺有限公司       龙门天美花艺有限公司            No\n",
              "12269   龙霸顺兴(江门)塑料有限公司   龙霸顺兴(江门)塑料有限公司            No\n",
              "12270   龙霸顺兴（江门）塑料有限公司   龙霸顺兴（江门）塑料有限公司            No\n",
              "\n",
              "[8950 rows x 3 columns]"
            ]
          },
          "metadata": {
            "tags": []
          },
          "execution_count": 25
        }
      ]
    },
    {
      "cell_type": "code",
      "metadata": {
        "id": "mVtwxntns0-7",
        "colab": {
          "base_uri": "https://localhost:8080/"
        },
        "outputId": "6d292fe9-675b-46d1-b292-b53b80124da5"
      },
      "source": [
        "len(customer_translated_df[customer_translated_df['Is_Translated']=='No'])"
      ],
      "execution_count": 26,
      "outputs": [
        {
          "output_type": "execute_result",
          "data": {
            "text/plain": [
              "1950"
            ]
          },
          "metadata": {
            "tags": []
          },
          "execution_count": 26
        }
      ]
    },
    {
      "cell_type": "code",
      "metadata": {
        "colab": {
          "base_uri": "https://localhost:8080/"
        },
        "id": "3RspduEjAkjh",
        "outputId": "5e162720-75dd-403c-e4c1-1b9b83dd9a6e"
      },
      "source": [
        "len(customer_translated_df[customer_translated_df['Is_Translated']=='Yes'])"
      ],
      "execution_count": 27,
      "outputs": [
        {
          "output_type": "execute_result",
          "data": {
            "text/plain": [
              "1371"
            ]
          },
          "metadata": {
            "tags": []
          },
          "execution_count": 27
        }
      ]
    },
    {
      "cell_type": "code",
      "metadata": {
        "colab": {
          "base_uri": "https://localhost:8080/"
        },
        "id": "kBVr5E-9A9iM",
        "outputId": "519218b8-6b9e-4ac4-9154-2a47e330995f"
      },
      "source": [
        "len(customer_ggt_df[customer_ggt_df['Is_Translated']=='No'])"
      ],
      "execution_count": 28,
      "outputs": [
        {
          "output_type": "execute_result",
          "data": {
            "text/plain": [
              "8950"
            ]
          },
          "metadata": {
            "tags": []
          },
          "execution_count": 28
        }
      ]
    },
    {
      "cell_type": "code",
      "metadata": {
        "colab": {
          "base_uri": "https://localhost:8080/"
        },
        "id": "1Ub730guBBe7",
        "outputId": "5e0d5625-2a32-49f9-e9ee-350d2c82427d"
      },
      "source": [
        "len(customer_ggt_df[customer_ggt_df['Is_Translated']=='Yes'])"
      ],
      "execution_count": 29,
      "outputs": [
        {
          "output_type": "execute_result",
          "data": {
            "text/plain": [
              "0"
            ]
          },
          "metadata": {
            "tags": []
          },
          "execution_count": 29
        }
      ]
    },
    {
      "cell_type": "code",
      "metadata": {
        "colab": {
          "base_uri": "https://localhost:8080/",
          "height": 419
        },
        "id": "9dqN8TZpBEVW",
        "outputId": "df130c4e-eff1-4398-8ec2-f6ffaf2b9fd1"
      },
      "source": [
        "customer_translated_df = customer_translated_df.append(customer_ggt_df)\r\n",
        "customer_translated_df"
      ],
      "execution_count": null,
      "outputs": [
        {
          "output_type": "execute_result",
          "data": {
            "text/html": [
              "<div>\n",
              "<style scoped>\n",
              "    .dataframe tbody tr th:only-of-type {\n",
              "        vertical-align: middle;\n",
              "    }\n",
              "\n",
              "    .dataframe tbody tr th {\n",
              "        vertical-align: top;\n",
              "    }\n",
              "\n",
              "    .dataframe thead th {\n",
              "        text-align: right;\n",
              "    }\n",
              "</style>\n",
              "<table border=\"1\" class=\"dataframe\">\n",
              "  <thead>\n",
              "    <tr style=\"text-align: right;\">\n",
              "      <th></th>\n",
              "      <th>Customer</th>\n",
              "      <th>Customer_cn_ggt</th>\n",
              "      <th>Is_Translated</th>\n",
              "    </tr>\n",
              "  </thead>\n",
              "  <tbody>\n",
              "    <tr>\n",
              "      <th>0</th>\n",
              "      <td>3M材料技术（广州）有限公司</td>\n",
              "      <td>3M Material Technology (Guangzhou) Co., Ltd.</td>\n",
              "      <td>Yes</td>\n",
              "    </tr>\n",
              "    <tr>\n",
              "      <th>1</th>\n",
              "      <td>GGP园林产品（广州）有限公司</td>\n",
              "      <td>GGP Garden Products (Guangzhou) Co., Ltd.</td>\n",
              "      <td>Yes</td>\n",
              "    </tr>\n",
              "    <tr>\n",
              "      <th>2</th>\n",
              "      <td>LG化学（天津）工程塑料有限公司</td>\n",
              "      <td>LG Chemical (Tianjin) Engineering Plastics Co....</td>\n",
              "      <td>Yes</td>\n",
              "    </tr>\n",
              "    <tr>\n",
              "      <th>3</th>\n",
              "      <td>PPG涂料(天津)有限公司</td>\n",
              "      <td>PPG Paint (Tianjin) Co., Ltd.</td>\n",
              "      <td>Yes</td>\n",
              "    </tr>\n",
              "    <tr>\n",
              "      <th>4</th>\n",
              "      <td>一关通（广州）国际供应链有限公司</td>\n",
              "      <td>Yiguantong (Guangzhou) International Supply Ch...</td>\n",
              "      <td>Yes</td>\n",
              "    </tr>\n",
              "    <tr>\n",
              "      <th>...</th>\n",
              "      <td>...</td>\n",
              "      <td>...</td>\n",
              "      <td>...</td>\n",
              "    </tr>\n",
              "    <tr>\n",
              "      <th>12266</th>\n",
              "      <td>龙海市龙峰塑料包装</td>\n",
              "      <td>龙海市龙峰塑料包装</td>\n",
              "      <td>No</td>\n",
              "    </tr>\n",
              "    <tr>\n",
              "      <th>12267</th>\n",
              "      <td>龙海市龙峰塑料包装有限公司</td>\n",
              "      <td>龙海市龙峰塑料包装有限公司</td>\n",
              "      <td>No</td>\n",
              "    </tr>\n",
              "    <tr>\n",
              "      <th>12268</th>\n",
              "      <td>龙门天美花艺有限公司</td>\n",
              "      <td>龙门天美花艺有限公司</td>\n",
              "      <td>No</td>\n",
              "    </tr>\n",
              "    <tr>\n",
              "      <th>12269</th>\n",
              "      <td>龙霸顺兴(江门)塑料有限公司</td>\n",
              "      <td>龙霸顺兴(江门)塑料有限公司</td>\n",
              "      <td>No</td>\n",
              "    </tr>\n",
              "    <tr>\n",
              "      <th>12270</th>\n",
              "      <td>龙霸顺兴（江门）塑料有限公司</td>\n",
              "      <td>龙霸顺兴（江门）塑料有限公司</td>\n",
              "      <td>No</td>\n",
              "    </tr>\n",
              "  </tbody>\n",
              "</table>\n",
              "<p>12271 rows × 3 columns</p>\n",
              "</div>"
            ],
            "text/plain": [
              "               Customer  ... Is_Translated\n",
              "0        3M材料技术（广州）有限公司  ...           Yes\n",
              "1       GGP园林产品（广州）有限公司  ...           Yes\n",
              "2      LG化学（天津）工程塑料有限公司  ...           Yes\n",
              "3         PPG涂料(天津)有限公司  ...           Yes\n",
              "4      一关通（广州）国际供应链有限公司  ...           Yes\n",
              "...                 ...  ...           ...\n",
              "12266         龙海市龙峰塑料包装  ...            No\n",
              "12267     龙海市龙峰塑料包装有限公司  ...            No\n",
              "12268        龙门天美花艺有限公司  ...            No\n",
              "12269    龙霸顺兴(江门)塑料有限公司  ...            No\n",
              "12270    龙霸顺兴（江门）塑料有限公司  ...            No\n",
              "\n",
              "[12271 rows x 3 columns]"
            ]
          },
          "metadata": {
            "tags": []
          },
          "execution_count": 23
        }
      ]
    },
    {
      "cell_type": "code",
      "metadata": {
        "colab": {
          "base_uri": "https://localhost:8080/",
          "height": 17
        },
        "id": "TqJKdu-vozKU",
        "outputId": "a8c8e2eb-bf90-4056-bf05-b4abd043288b"
      },
      "source": [
        "customer_translated_df.to_csv('customer_translated.csv', encoding='utf_8_sig', index=False)\r\n",
        "files.download('customer_translated.csv')"
      ],
      "execution_count": null,
      "outputs": [
        {
          "output_type": "display_data",
          "data": {
            "application/javascript": [
              "\n",
              "    async function download(id, filename, size) {\n",
              "      if (!google.colab.kernel.accessAllowed) {\n",
              "        return;\n",
              "      }\n",
              "      const div = document.createElement('div');\n",
              "      const label = document.createElement('label');\n",
              "      label.textContent = `Downloading \"${filename}\": `;\n",
              "      div.appendChild(label);\n",
              "      const progress = document.createElement('progress');\n",
              "      progress.max = size;\n",
              "      div.appendChild(progress);\n",
              "      document.body.appendChild(div);\n",
              "\n",
              "      const buffers = [];\n",
              "      let downloaded = 0;\n",
              "\n",
              "      const channel = await google.colab.kernel.comms.open(id);\n",
              "      // Send a message to notify the kernel that we're ready.\n",
              "      channel.send({})\n",
              "\n",
              "      for await (const message of channel.messages) {\n",
              "        // Send a message to notify the kernel that we're ready.\n",
              "        channel.send({})\n",
              "        if (message.buffers) {\n",
              "          for (const buffer of message.buffers) {\n",
              "            buffers.push(buffer);\n",
              "            downloaded += buffer.byteLength;\n",
              "            progress.value = downloaded;\n",
              "          }\n",
              "        }\n",
              "      }\n",
              "      const blob = new Blob(buffers, {type: 'application/binary'});\n",
              "      const a = document.createElement('a');\n",
              "      a.href = window.URL.createObjectURL(blob);\n",
              "      a.download = filename;\n",
              "      div.appendChild(a);\n",
              "      a.click();\n",
              "      div.remove();\n",
              "    }\n",
              "  "
            ],
            "text/plain": [
              "<IPython.core.display.Javascript object>"
            ]
          },
          "metadata": {
            "tags": []
          }
        },
        {
          "output_type": "display_data",
          "data": {
            "application/javascript": [
              "download(\"download_8f9788c7-0d86-4782-9784-51b4b8f31c3c\", \"customer_translated_df.csv\", 916940)"
            ],
            "text/plain": [
              "<IPython.core.display.Javascript object>"
            ]
          },
          "metadata": {
            "tags": []
          }
        }
      ]
    },
    {
      "cell_type": "code",
      "metadata": {
        "id": "9fRTxl5NPV9O"
      },
      "source": [
        ""
      ],
      "execution_count": null,
      "outputs": []
    },
    {
      "cell_type": "code",
      "metadata": {
        "id": "FM46q1aEozM8"
      },
      "source": [
        ""
      ],
      "execution_count": null,
      "outputs": []
    }
  ]
}